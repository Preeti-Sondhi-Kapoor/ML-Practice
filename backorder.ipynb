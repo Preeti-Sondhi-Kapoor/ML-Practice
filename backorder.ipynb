{
  "nbformat": 4,
  "nbformat_minor": 0,
  "metadata": {
    "colab": {
      "name": "backorder.ipynb",
      "provenance": [],
      "collapsed_sections": [],
      "toc_visible": true
    },
    "kernelspec": {
      "name": "python3",
      "display_name": "Python 3"
    }
  },
  "cells": [
    {
      "cell_type": "markdown",
      "metadata": {
        "id": "WF9FrlNfGkq1"
      },
      "source": [
        "# **Back Order Prediction**"
      ]
    },
    {
      "cell_type": "code",
      "metadata": {
        "id": "BsNVQ4MN8n5D"
      },
      "source": [
        "#import libraries\n",
        "import pandas as pd\n",
        "import numpy as np\n",
        "# data visualization\n",
        "import seaborn as sns\n",
        "%matplotlib inline\n",
        "from matplotlib import pyplot as plot\n",
        "from matplotlib import style"
      ],
      "execution_count": 1,
      "outputs": []
    },
    {
      "cell_type": "code",
      "metadata": {
        "id": "llc4p8TqB4WN"
      },
      "source": [
        "#ignore warnings\n",
        "import warnings\n",
        "warnings.filterwarnings('ignore')"
      ],
      "execution_count": 2,
      "outputs": []
    },
    {
      "cell_type": "code",
      "metadata": {
        "id": "3-EeX8SuEjK5"
      },
      "source": [
        "train_df=pd.read_csv(\"Training_Dataset_v2.csv\")                           #Getting the Data\n",
        "   "
      ],
      "execution_count": 4,
      "outputs": []
    },
    {
      "cell_type": "code",
      "metadata": {
        "id": "oyRE4U23EqM9",
        "outputId": "18ae29c3-477f-4524-c9b1-6b14a00aed2b",
        "colab": {
          "base_uri": "https://localhost:8080/",
          "height": 220
        }
      },
      "source": [
        "train_df.head()              #lets have a look at the dataset"
      ],
      "execution_count": 5,
      "outputs": [
        {
          "output_type": "execute_result",
          "data": {
            "text/html": [
              "<div>\n",
              "<style scoped>\n",
              "    .dataframe tbody tr th:only-of-type {\n",
              "        vertical-align: middle;\n",
              "    }\n",
              "\n",
              "    .dataframe tbody tr th {\n",
              "        vertical-align: top;\n",
              "    }\n",
              "\n",
              "    .dataframe thead th {\n",
              "        text-align: right;\n",
              "    }\n",
              "</style>\n",
              "<table border=\"1\" class=\"dataframe\">\n",
              "  <thead>\n",
              "    <tr style=\"text-align: right;\">\n",
              "      <th></th>\n",
              "      <th>sku</th>\n",
              "      <th>national_inv</th>\n",
              "      <th>lead_time</th>\n",
              "      <th>in_transit_qty</th>\n",
              "      <th>forecast_3_month</th>\n",
              "      <th>forecast_6_month</th>\n",
              "      <th>forecast_9_month</th>\n",
              "      <th>sales_1_month</th>\n",
              "      <th>sales_3_month</th>\n",
              "      <th>sales_6_month</th>\n",
              "      <th>sales_9_month</th>\n",
              "      <th>min_bank</th>\n",
              "      <th>potential_issue</th>\n",
              "      <th>pieces_past_due</th>\n",
              "      <th>perf_6_month_avg</th>\n",
              "      <th>perf_12_month_avg</th>\n",
              "      <th>local_bo_qty</th>\n",
              "      <th>deck_risk</th>\n",
              "      <th>oe_constraint</th>\n",
              "      <th>ppap_risk</th>\n",
              "      <th>stop_auto_buy</th>\n",
              "      <th>rev_stop</th>\n",
              "      <th>went_on_backorder</th>\n",
              "    </tr>\n",
              "  </thead>\n",
              "  <tbody>\n",
              "    <tr>\n",
              "      <th>0</th>\n",
              "      <td>1026827</td>\n",
              "      <td>0</td>\n",
              "      <td>NaN</td>\n",
              "      <td>0</td>\n",
              "      <td>0</td>\n",
              "      <td>0</td>\n",
              "      <td>0</td>\n",
              "      <td>0</td>\n",
              "      <td>0.0</td>\n",
              "      <td>0.0</td>\n",
              "      <td>0.0</td>\n",
              "      <td>0.0</td>\n",
              "      <td>No</td>\n",
              "      <td>0.0</td>\n",
              "      <td>-99.00</td>\n",
              "      <td>-99.00</td>\n",
              "      <td>0.0</td>\n",
              "      <td>No</td>\n",
              "      <td>No</td>\n",
              "      <td>No</td>\n",
              "      <td>Yes</td>\n",
              "      <td>No</td>\n",
              "      <td>No</td>\n",
              "    </tr>\n",
              "    <tr>\n",
              "      <th>1</th>\n",
              "      <td>1043384</td>\n",
              "      <td>2</td>\n",
              "      <td>9.0</td>\n",
              "      <td>0</td>\n",
              "      <td>0</td>\n",
              "      <td>0</td>\n",
              "      <td>0</td>\n",
              "      <td>0</td>\n",
              "      <td>0.0</td>\n",
              "      <td>0.0</td>\n",
              "      <td>0.0</td>\n",
              "      <td>0.0</td>\n",
              "      <td>No</td>\n",
              "      <td>0.0</td>\n",
              "      <td>0.99</td>\n",
              "      <td>0.99</td>\n",
              "      <td>0.0</td>\n",
              "      <td>No</td>\n",
              "      <td>No</td>\n",
              "      <td>No</td>\n",
              "      <td>Yes</td>\n",
              "      <td>No</td>\n",
              "      <td>No</td>\n",
              "    </tr>\n",
              "    <tr>\n",
              "      <th>2</th>\n",
              "      <td>1043696</td>\n",
              "      <td>2</td>\n",
              "      <td>NaN</td>\n",
              "      <td>0</td>\n",
              "      <td>0</td>\n",
              "      <td>0</td>\n",
              "      <td>0</td>\n",
              "      <td>0</td>\n",
              "      <td>0.0</td>\n",
              "      <td>0.0</td>\n",
              "      <td>0.0</td>\n",
              "      <td>0.0</td>\n",
              "      <td>No</td>\n",
              "      <td>0.0</td>\n",
              "      <td>-99.00</td>\n",
              "      <td>-99.00</td>\n",
              "      <td>0.0</td>\n",
              "      <td>Yes</td>\n",
              "      <td>No</td>\n",
              "      <td>No</td>\n",
              "      <td>Yes</td>\n",
              "      <td>No</td>\n",
              "      <td>No</td>\n",
              "    </tr>\n",
              "    <tr>\n",
              "      <th>3</th>\n",
              "      <td>1043852</td>\n",
              "      <td>7</td>\n",
              "      <td>8.0</td>\n",
              "      <td>0</td>\n",
              "      <td>0</td>\n",
              "      <td>0</td>\n",
              "      <td>0</td>\n",
              "      <td>0</td>\n",
              "      <td>0.0</td>\n",
              "      <td>0.0</td>\n",
              "      <td>0.0</td>\n",
              "      <td>1.0</td>\n",
              "      <td>No</td>\n",
              "      <td>0.0</td>\n",
              "      <td>0.10</td>\n",
              "      <td>0.13</td>\n",
              "      <td>0.0</td>\n",
              "      <td>No</td>\n",
              "      <td>No</td>\n",
              "      <td>No</td>\n",
              "      <td>Yes</td>\n",
              "      <td>No</td>\n",
              "      <td>No</td>\n",
              "    </tr>\n",
              "    <tr>\n",
              "      <th>4</th>\n",
              "      <td>1044048</td>\n",
              "      <td>8</td>\n",
              "      <td>NaN</td>\n",
              "      <td>0</td>\n",
              "      <td>0</td>\n",
              "      <td>0</td>\n",
              "      <td>0</td>\n",
              "      <td>0</td>\n",
              "      <td>0.0</td>\n",
              "      <td>0.0</td>\n",
              "      <td>4.0</td>\n",
              "      <td>2.0</td>\n",
              "      <td>No</td>\n",
              "      <td>0.0</td>\n",
              "      <td>-99.00</td>\n",
              "      <td>-99.00</td>\n",
              "      <td>0.0</td>\n",
              "      <td>Yes</td>\n",
              "      <td>No</td>\n",
              "      <td>No</td>\n",
              "      <td>Yes</td>\n",
              "      <td>No</td>\n",
              "      <td>No</td>\n",
              "    </tr>\n",
              "  </tbody>\n",
              "</table>\n",
              "</div>"
            ],
            "text/plain": [
              "       sku  national_inv  lead_time  ...  stop_auto_buy  rev_stop  went_on_backorder\n",
              "0  1026827             0        NaN  ...            Yes        No                 No\n",
              "1  1043384             2        9.0  ...            Yes        No                 No\n",
              "2  1043696             2        NaN  ...            Yes        No                 No\n",
              "3  1043852             7        8.0  ...            Yes        No                 No\n",
              "4  1044048             8        NaN  ...            Yes        No                 No\n",
              "\n",
              "[5 rows x 23 columns]"
            ]
          },
          "metadata": {
            "tags": []
          },
          "execution_count": 5
        }
      ]
    },
    {
      "cell_type": "markdown",
      "metadata": {
        "id": "4tv3Uln4F5ii"
      },
      "source": [
        "Column Description\n",
        "sku – Random ID for the product\n",
        "national_inv – Current inventory level for the part\n",
        "lead_time – Transit time for product (if available)\n",
        "in_transit_qty – Amount of product in transit from source\n",
        "forecast_3_month – Forecast sales for the next 3 months\n",
        "forecast_6_month – Forecast sales for the next 6 months\n",
        "forecast_9_month – Forecast sales for the next 9 months\n",
        "sales_1_month – Sales quantity for the prior 1 month time period\n",
        "sales_3_month – Sales quantity for the prior 3 month time period\n",
        "sales_6_month – Sales quantity for the prior 6 month time period\n",
        "sales_9_month – Sales quantity for the prior 9 month time period\n",
        "min_bank – Minimum recommend amount to stock\n",
        "potential_issue – Source issue for part identified\n",
        "pieces_past_due – Parts overdue from source\n",
        "perf_6_month_avg – Source performance for prior 6 month period\n",
        "perf_12_month_avg – Source performance for prior 12 month period\n",
        "local_bo_qty – Amount of stock orders overdue\n",
        "deck_risk – Part risk flag\n",
        "oe_constraint – Part risk flag\n",
        "ppap_risk – Part risk flag\n",
        "stop_auto_buy – Part risk flag\n",
        "rev_stop – Part risk flag\n",
        "went_on_backorder – Product actually went on backorder. This is the target value."
      ]
    },
    {
      "cell_type": "code",
      "metadata": {
        "id": "UHpUYBMqKEtG",
        "outputId": "34237f2f-e8f7-48b5-ae34-504e9728704b",
        "colab": {
          "base_uri": "https://localhost:8080/",
          "height": 550
        }
      },
      "source": [
        "train_df.info()"
      ],
      "execution_count": 6,
      "outputs": [
        {
          "output_type": "stream",
          "text": [
            "<class 'pandas.core.frame.DataFrame'>\n",
            "RangeIndex: 28889 entries, 0 to 28888\n",
            "Data columns (total 23 columns):\n",
            " #   Column             Non-Null Count  Dtype  \n",
            "---  ------             --------------  -----  \n",
            " 0   sku                28889 non-null  int64  \n",
            " 1   national_inv       28889 non-null  int64  \n",
            " 2   lead_time          27086 non-null  float64\n",
            " 3   in_transit_qty     28889 non-null  int64  \n",
            " 4   forecast_3_month   28889 non-null  int64  \n",
            " 5   forecast_6_month   28889 non-null  int64  \n",
            " 6   forecast_9_month   28889 non-null  int64  \n",
            " 7   sales_1_month      28889 non-null  int64  \n",
            " 8   sales_3_month      28888 non-null  float64\n",
            " 9   sales_6_month      28888 non-null  float64\n",
            " 10  sales_9_month      28888 non-null  float64\n",
            " 11  min_bank           28888 non-null  float64\n",
            " 12  potential_issue    28888 non-null  object \n",
            " 13  pieces_past_due    28888 non-null  float64\n",
            " 14  perf_6_month_avg   28888 non-null  float64\n",
            " 15  perf_12_month_avg  28888 non-null  float64\n",
            " 16  local_bo_qty       28888 non-null  float64\n",
            " 17  deck_risk          28888 non-null  object \n",
            " 18  oe_constraint      28888 non-null  object \n",
            " 19  ppap_risk          28888 non-null  object \n",
            " 20  stop_auto_buy      28888 non-null  object \n",
            " 21  rev_stop           28888 non-null  object \n",
            " 22  went_on_backorder  28888 non-null  object \n",
            "dtypes: float64(9), int64(7), object(7)\n",
            "memory usage: 5.1+ MB\n"
          ],
          "name": "stdout"
        }
      ]
    },
    {
      "cell_type": "code",
      "metadata": {
        "id": "e_0BoL2EFdra",
        "outputId": "68c6cd8f-4999-42c1-e7e2-dab5ffdc0a2c",
        "colab": {
          "base_uri": "https://localhost:8080/",
          "height": 35
        }
      },
      "source": [
        "train_df.shape"
      ],
      "execution_count": 7,
      "outputs": [
        {
          "output_type": "execute_result",
          "data": {
            "text/plain": [
              "(28889, 23)"
            ]
          },
          "metadata": {
            "tags": []
          },
          "execution_count": 7
        }
      ]
    },
    {
      "cell_type": "code",
      "metadata": {
        "id": "WX5x2oUDFdvn",
        "outputId": "bed02b62-9d34-4434-b1ee-c63f2508cb0d",
        "colab": {
          "base_uri": "https://localhost:8080/",
          "height": 402
        }
      },
      "source": [
        "train_df.describe(include=\"all\")"
      ],
      "execution_count": 8,
      "outputs": [
        {
          "output_type": "execute_result",
          "data": {
            "text/html": [
              "<div>\n",
              "<style scoped>\n",
              "    .dataframe tbody tr th:only-of-type {\n",
              "        vertical-align: middle;\n",
              "    }\n",
              "\n",
              "    .dataframe tbody tr th {\n",
              "        vertical-align: top;\n",
              "    }\n",
              "\n",
              "    .dataframe thead th {\n",
              "        text-align: right;\n",
              "    }\n",
              "</style>\n",
              "<table border=\"1\" class=\"dataframe\">\n",
              "  <thead>\n",
              "    <tr style=\"text-align: right;\">\n",
              "      <th></th>\n",
              "      <th>sku</th>\n",
              "      <th>national_inv</th>\n",
              "      <th>lead_time</th>\n",
              "      <th>in_transit_qty</th>\n",
              "      <th>forecast_3_month</th>\n",
              "      <th>forecast_6_month</th>\n",
              "      <th>forecast_9_month</th>\n",
              "      <th>sales_1_month</th>\n",
              "      <th>sales_3_month</th>\n",
              "      <th>sales_6_month</th>\n",
              "      <th>sales_9_month</th>\n",
              "      <th>min_bank</th>\n",
              "      <th>potential_issue</th>\n",
              "      <th>pieces_past_due</th>\n",
              "      <th>perf_6_month_avg</th>\n",
              "      <th>perf_12_month_avg</th>\n",
              "      <th>local_bo_qty</th>\n",
              "      <th>deck_risk</th>\n",
              "      <th>oe_constraint</th>\n",
              "      <th>ppap_risk</th>\n",
              "      <th>stop_auto_buy</th>\n",
              "      <th>rev_stop</th>\n",
              "      <th>went_on_backorder</th>\n",
              "    </tr>\n",
              "  </thead>\n",
              "  <tbody>\n",
              "    <tr>\n",
              "      <th>count</th>\n",
              "      <td>2.888900e+04</td>\n",
              "      <td>2.888900e+04</td>\n",
              "      <td>27086.000000</td>\n",
              "      <td>28889.000000</td>\n",
              "      <td>2.888900e+04</td>\n",
              "      <td>2.888900e+04</td>\n",
              "      <td>2.888900e+04</td>\n",
              "      <td>28889.000000</td>\n",
              "      <td>28888.000000</td>\n",
              "      <td>2.888800e+04</td>\n",
              "      <td>2.888800e+04</td>\n",
              "      <td>28888.000000</td>\n",
              "      <td>28888</td>\n",
              "      <td>28888.000000</td>\n",
              "      <td>28888.000000</td>\n",
              "      <td>28888.000000</td>\n",
              "      <td>28888.000000</td>\n",
              "      <td>28888</td>\n",
              "      <td>28888</td>\n",
              "      <td>28888</td>\n",
              "      <td>28888</td>\n",
              "      <td>28888</td>\n",
              "      <td>28888</td>\n",
              "    </tr>\n",
              "    <tr>\n",
              "      <th>unique</th>\n",
              "      <td>NaN</td>\n",
              "      <td>NaN</td>\n",
              "      <td>NaN</td>\n",
              "      <td>NaN</td>\n",
              "      <td>NaN</td>\n",
              "      <td>NaN</td>\n",
              "      <td>NaN</td>\n",
              "      <td>NaN</td>\n",
              "      <td>NaN</td>\n",
              "      <td>NaN</td>\n",
              "      <td>NaN</td>\n",
              "      <td>NaN</td>\n",
              "      <td>2</td>\n",
              "      <td>NaN</td>\n",
              "      <td>NaN</td>\n",
              "      <td>NaN</td>\n",
              "      <td>NaN</td>\n",
              "      <td>2</td>\n",
              "      <td>2</td>\n",
              "      <td>2</td>\n",
              "      <td>2</td>\n",
              "      <td>2</td>\n",
              "      <td>2</td>\n",
              "    </tr>\n",
              "    <tr>\n",
              "      <th>top</th>\n",
              "      <td>NaN</td>\n",
              "      <td>NaN</td>\n",
              "      <td>NaN</td>\n",
              "      <td>NaN</td>\n",
              "      <td>NaN</td>\n",
              "      <td>NaN</td>\n",
              "      <td>NaN</td>\n",
              "      <td>NaN</td>\n",
              "      <td>NaN</td>\n",
              "      <td>NaN</td>\n",
              "      <td>NaN</td>\n",
              "      <td>NaN</td>\n",
              "      <td>No</td>\n",
              "      <td>NaN</td>\n",
              "      <td>NaN</td>\n",
              "      <td>NaN</td>\n",
              "      <td>NaN</td>\n",
              "      <td>No</td>\n",
              "      <td>No</td>\n",
              "      <td>No</td>\n",
              "      <td>Yes</td>\n",
              "      <td>No</td>\n",
              "      <td>No</td>\n",
              "    </tr>\n",
              "    <tr>\n",
              "      <th>freq</th>\n",
              "      <td>NaN</td>\n",
              "      <td>NaN</td>\n",
              "      <td>NaN</td>\n",
              "      <td>NaN</td>\n",
              "      <td>NaN</td>\n",
              "      <td>NaN</td>\n",
              "      <td>NaN</td>\n",
              "      <td>NaN</td>\n",
              "      <td>NaN</td>\n",
              "      <td>NaN</td>\n",
              "      <td>NaN</td>\n",
              "      <td>NaN</td>\n",
              "      <td>28875</td>\n",
              "      <td>NaN</td>\n",
              "      <td>NaN</td>\n",
              "      <td>NaN</td>\n",
              "      <td>NaN</td>\n",
              "      <td>21958</td>\n",
              "      <td>28882</td>\n",
              "      <td>25356</td>\n",
              "      <td>27899</td>\n",
              "      <td>28876</td>\n",
              "      <td>28581</td>\n",
              "    </tr>\n",
              "    <tr>\n",
              "      <th>mean</th>\n",
              "      <td>1.125919e+06</td>\n",
              "      <td>8.316042e+02</td>\n",
              "      <td>7.864136</td>\n",
              "      <td>46.954619</td>\n",
              "      <td>1.896872e+02</td>\n",
              "      <td>3.750646e+02</td>\n",
              "      <td>5.481051e+02</td>\n",
              "      <td>73.902212</td>\n",
              "      <td>216.100699</td>\n",
              "      <td>4.036777e+02</td>\n",
              "      <td>6.738293e+02</td>\n",
              "      <td>69.422113</td>\n",
              "      <td>NaN</td>\n",
              "      <td>2.484250</td>\n",
              "      <td>-7.328238</td>\n",
              "      <td>-6.884367</td>\n",
              "      <td>0.711333</td>\n",
              "      <td>NaN</td>\n",
              "      <td>NaN</td>\n",
              "      <td>NaN</td>\n",
              "      <td>NaN</td>\n",
              "      <td>NaN</td>\n",
              "      <td>NaN</td>\n",
              "    </tr>\n",
              "    <tr>\n",
              "      <th>std</th>\n",
              "      <td>9.185403e+03</td>\n",
              "      <td>7.294562e+04</td>\n",
              "      <td>7.050308</td>\n",
              "      <td>1538.342627</td>\n",
              "      <td>6.960036e+03</td>\n",
              "      <td>1.382776e+04</td>\n",
              "      <td>1.990480e+04</td>\n",
              "      <td>2903.577815</td>\n",
              "      <td>7346.437680</td>\n",
              "      <td>1.282701e+04</td>\n",
              "      <td>2.215093e+04</td>\n",
              "      <td>2418.320586</td>\n",
              "      <td>NaN</td>\n",
              "      <td>184.899932</td>\n",
              "      <td>27.280860</td>\n",
              "      <td>26.572416</td>\n",
              "      <td>37.811181</td>\n",
              "      <td>NaN</td>\n",
              "      <td>NaN</td>\n",
              "      <td>NaN</td>\n",
              "      <td>NaN</td>\n",
              "      <td>NaN</td>\n",
              "      <td>NaN</td>\n",
              "    </tr>\n",
              "    <tr>\n",
              "      <th>min</th>\n",
              "      <td>1.026827e+06</td>\n",
              "      <td>-1.186000e+03</td>\n",
              "      <td>0.000000</td>\n",
              "      <td>0.000000</td>\n",
              "      <td>0.000000e+00</td>\n",
              "      <td>0.000000e+00</td>\n",
              "      <td>0.000000e+00</td>\n",
              "      <td>0.000000</td>\n",
              "      <td>0.000000</td>\n",
              "      <td>0.000000e+00</td>\n",
              "      <td>0.000000e+00</td>\n",
              "      <td>0.000000</td>\n",
              "      <td>NaN</td>\n",
              "      <td>0.000000</td>\n",
              "      <td>-99.000000</td>\n",
              "      <td>-99.000000</td>\n",
              "      <td>0.000000</td>\n",
              "      <td>NaN</td>\n",
              "      <td>NaN</td>\n",
              "      <td>NaN</td>\n",
              "      <td>NaN</td>\n",
              "      <td>NaN</td>\n",
              "      <td>NaN</td>\n",
              "    </tr>\n",
              "    <tr>\n",
              "      <th>25%</th>\n",
              "      <td>1.118741e+06</td>\n",
              "      <td>4.000000e+00</td>\n",
              "      <td>4.000000</td>\n",
              "      <td>0.000000</td>\n",
              "      <td>0.000000e+00</td>\n",
              "      <td>0.000000e+00</td>\n",
              "      <td>0.000000e+00</td>\n",
              "      <td>0.000000</td>\n",
              "      <td>0.000000</td>\n",
              "      <td>0.000000e+00</td>\n",
              "      <td>0.000000e+00</td>\n",
              "      <td>0.000000</td>\n",
              "      <td>NaN</td>\n",
              "      <td>0.000000</td>\n",
              "      <td>0.630000</td>\n",
              "      <td>0.660000</td>\n",
              "      <td>0.000000</td>\n",
              "      <td>NaN</td>\n",
              "      <td>NaN</td>\n",
              "      <td>NaN</td>\n",
              "      <td>NaN</td>\n",
              "      <td>NaN</td>\n",
              "      <td>NaN</td>\n",
              "    </tr>\n",
              "    <tr>\n",
              "      <th>50%</th>\n",
              "      <td>1.125963e+06</td>\n",
              "      <td>1.500000e+01</td>\n",
              "      <td>8.000000</td>\n",
              "      <td>0.000000</td>\n",
              "      <td>0.000000e+00</td>\n",
              "      <td>0.000000e+00</td>\n",
              "      <td>0.000000e+00</td>\n",
              "      <td>0.000000</td>\n",
              "      <td>1.000000</td>\n",
              "      <td>2.000000e+00</td>\n",
              "      <td>3.000000e+00</td>\n",
              "      <td>0.000000</td>\n",
              "      <td>NaN</td>\n",
              "      <td>0.000000</td>\n",
              "      <td>0.820000</td>\n",
              "      <td>0.810000</td>\n",
              "      <td>0.000000</td>\n",
              "      <td>NaN</td>\n",
              "      <td>NaN</td>\n",
              "      <td>NaN</td>\n",
              "      <td>NaN</td>\n",
              "      <td>NaN</td>\n",
              "      <td>NaN</td>\n",
              "    </tr>\n",
              "    <tr>\n",
              "      <th>75%</th>\n",
              "      <td>1.133185e+06</td>\n",
              "      <td>8.100000e+01</td>\n",
              "      <td>9.000000</td>\n",
              "      <td>0.000000</td>\n",
              "      <td>4.000000e+00</td>\n",
              "      <td>1.100000e+01</td>\n",
              "      <td>2.000000e+01</td>\n",
              "      <td>4.000000</td>\n",
              "      <td>14.000000</td>\n",
              "      <td>2.900000e+01</td>\n",
              "      <td>4.500000e+01</td>\n",
              "      <td>3.000000</td>\n",
              "      <td>NaN</td>\n",
              "      <td>0.000000</td>\n",
              "      <td>0.970000</td>\n",
              "      <td>0.950000</td>\n",
              "      <td>0.000000</td>\n",
              "      <td>NaN</td>\n",
              "      <td>NaN</td>\n",
              "      <td>NaN</td>\n",
              "      <td>NaN</td>\n",
              "      <td>NaN</td>\n",
              "      <td>NaN</td>\n",
              "    </tr>\n",
              "    <tr>\n",
              "      <th>max</th>\n",
              "      <td>1.237426e+06</td>\n",
              "      <td>1.233440e+07</td>\n",
              "      <td>52.000000</td>\n",
              "      <td>217729.000000</td>\n",
              "      <td>1.046592e+06</td>\n",
              "      <td>2.104128e+06</td>\n",
              "      <td>3.002688e+06</td>\n",
              "      <td>361803.000000</td>\n",
              "      <td>884575.000000</td>\n",
              "      <td>1.763533e+06</td>\n",
              "      <td>2.758103e+06</td>\n",
              "      <td>309667.000000</td>\n",
              "      <td>NaN</td>\n",
              "      <td>23616.000000</td>\n",
              "      <td>1.000000</td>\n",
              "      <td>1.000000</td>\n",
              "      <td>5208.000000</td>\n",
              "      <td>NaN</td>\n",
              "      <td>NaN</td>\n",
              "      <td>NaN</td>\n",
              "      <td>NaN</td>\n",
              "      <td>NaN</td>\n",
              "      <td>NaN</td>\n",
              "    </tr>\n",
              "  </tbody>\n",
              "</table>\n",
              "</div>"
            ],
            "text/plain": [
              "                 sku  national_inv  ...  rev_stop  went_on_backorder\n",
              "count   2.888900e+04  2.888900e+04  ...     28888              28888\n",
              "unique           NaN           NaN  ...         2                  2\n",
              "top              NaN           NaN  ...        No                 No\n",
              "freq             NaN           NaN  ...     28876              28581\n",
              "mean    1.125919e+06  8.316042e+02  ...       NaN                NaN\n",
              "std     9.185403e+03  7.294562e+04  ...       NaN                NaN\n",
              "min     1.026827e+06 -1.186000e+03  ...       NaN                NaN\n",
              "25%     1.118741e+06  4.000000e+00  ...       NaN                NaN\n",
              "50%     1.125963e+06  1.500000e+01  ...       NaN                NaN\n",
              "75%     1.133185e+06  8.100000e+01  ...       NaN                NaN\n",
              "max     1.237426e+06  1.233440e+07  ...       NaN                NaN\n",
              "\n",
              "[11 rows x 23 columns]"
            ]
          },
          "metadata": {
            "tags": []
          },
          "execution_count": 8
        }
      ]
    },
    {
      "cell_type": "markdown",
      "metadata": {
        "id": "fz-SH2R4F43f"
      },
      "source": [
        "A generic question shall be: Which order could not be fulfilled by the company?\n",
        "\n",
        "These general questions might lead you to more specific questions:\n",
        "\n",
        "What’s the relationship between products and backorder?\n",
        "How prominent is that relationship? \n",
        "Which features contribute more to backorder (company is not able to keep up with the delivery of the order)? \n",
        "Which product has high demand ?\n",
        "\n",
        "So answer all these question, we will first visualize our data \n",
        "\n",
        "#** Missing Values**\n",
        "\n",
        "First step is to check hor many missing values are present in our data."
      ]
    },
    {
      "cell_type": "code",
      "metadata": {
        "id": "nJGSc0cbGIKk",
        "outputId": "fe159866-d7c6-44a2-efc4-8b1822feed03",
        "colab": {
          "base_uri": "https://localhost:8080/",
          "height": 375
        }
      },
      "source": [
        "sns.heatmap(train_df.isnull(), cmap='viridis',cbar=False)"
      ],
      "execution_count": 9,
      "outputs": [
        {
          "output_type": "execute_result",
          "data": {
            "text/plain": [
              "<matplotlib.axes._subplots.AxesSubplot at 0x7f3c2f05c908>"
            ]
          },
          "metadata": {
            "tags": []
          },
          "execution_count": 9
        },
        {
          "output_type": "display_data",
          "data": {
            "image/png": "[encoded data removed]",
            "text/plain": [
              "<Figure size 432x288 with 1 Axes>"
            ]
          },
          "metadata": {
            "tags": [],
            "needs_background": "light"
          }
        }
      ]
    },
    {
      "cell_type": "code",
      "metadata": {
        "id": "OOkdBJC0Fdpw",
        "outputId": "1808f965-e427-4cf6-9827-be449de59b40",
        "colab": {
          "base_uri": "https://localhost:8080/",
          "height": 444
        }
      },
      "source": [
        "train_df.isna().sum()                       #check number of missing values"
      ],
      "execution_count": 10,
      "outputs": [
        {
          "output_type": "execute_result",
          "data": {
            "text/plain": [
              "sku                     0\n",
              "national_inv            0\n",
              "lead_time            1803\n",
              "in_transit_qty          0\n",
              "forecast_3_month        0\n",
              "forecast_6_month        0\n",
              "forecast_9_month        0\n",
              "sales_1_month           0\n",
              "sales_3_month           1\n",
              "sales_6_month           1\n",
              "sales_9_month           1\n",
              "min_bank                1\n",
              "potential_issue         1\n",
              "pieces_past_due         1\n",
              "perf_6_month_avg        1\n",
              "perf_12_month_avg       1\n",
              "local_bo_qty            1\n",
              "deck_risk               1\n",
              "oe_constraint           1\n",
              "ppap_risk               1\n",
              "stop_auto_buy           1\n",
              "rev_stop                1\n",
              "went_on_backorder       1\n",
              "dtype: int64"
            ]
          },
          "metadata": {
            "tags": []
          },
          "execution_count": 10
        }
      ]
    },
    {
      "cell_type": "code",
      "metadata": {
        "id": "VWzwjnPtFdm-"
      },
      "source": [
        "train_df['lead_time'].fillna(train_df['lead_time'].median(),inplace=True)          #replace missing vales in \"lead_time\" with its median"
      ],
      "execution_count": 11,
      "outputs": []
    },
    {
      "cell_type": "code",
      "metadata": {
        "id": "10tyvKJiFdiI"
      },
      "source": [
        "train_df.dropna(how='any',thresh=None, subset=None, inplace=True)             #drop rest null values "
      ],
      "execution_count": 12,
      "outputs": []
    },
    {
      "cell_type": "code",
      "metadata": {
        "id": "e2d6KwWIJVsi",
        "outputId": "9ae499e3-9def-4ad4-ac51-0cc6890c66d2",
        "colab": {
          "base_uri": "https://localhost:8080/",
          "height": 444
        }
      },
      "source": [
        "(train_df.isna().mean())*100        #check % of missing values"
      ],
      "execution_count": 13,
      "outputs": [
        {
          "output_type": "execute_result",
          "data": {
            "text/plain": [
              "sku                  0.0\n",
              "national_inv         0.0\n",
              "lead_time            0.0\n",
              "in_transit_qty       0.0\n",
              "forecast_3_month     0.0\n",
              "forecast_6_month     0.0\n",
              "forecast_9_month     0.0\n",
              "sales_1_month        0.0\n",
              "sales_3_month        0.0\n",
              "sales_6_month        0.0\n",
              "sales_9_month        0.0\n",
              "min_bank             0.0\n",
              "potential_issue      0.0\n",
              "pieces_past_due      0.0\n",
              "perf_6_month_avg     0.0\n",
              "perf_12_month_avg    0.0\n",
              "local_bo_qty         0.0\n",
              "deck_risk            0.0\n",
              "oe_constraint        0.0\n",
              "ppap_risk            0.0\n",
              "stop_auto_buy        0.0\n",
              "rev_stop             0.0\n",
              "went_on_backorder    0.0\n",
              "dtype: float64"
            ]
          },
          "metadata": {
            "tags": []
          },
          "execution_count": 13
        }
      ]
    },
    {
      "cell_type": "markdown",
      "metadata": {
        "id": "D1MjBQatKKCV"
      },
      "source": [
        "Now , lets see how many columns are numerical and categorical for better understanding and visualization"
      ]
    },
    {
      "cell_type": "code",
      "metadata": {
        "id": "klBo5N-VLKE2"
      },
      "source": [
        "train_id=train_df['sku']\n",
        "train_df.drop('sku',axis=1,inplace=True)                #drop id column"
      ],
      "execution_count": 15,
      "outputs": []
    },
    {
      "cell_type": "code",
      "metadata": {
        "id": "9uOMaX9AMJdd"
      },
      "source": [
        "y=train_df['went_on_backorder']"
      ],
      "execution_count": 16,
      "outputs": []
    },
    {
      "cell_type": "code",
      "metadata": {
        "id": "wXwwZ_KjJV04",
        "outputId": "c160b4c4-135b-4641-a2d7-7535cb611312",
        "colab": {
          "base_uri": "https://localhost:8080/",
          "height": 124
        }
      },
      "source": [
        "Numerical_features=train_df.select_dtypes(exclude=['object'])\n",
        "Numerical_features.columns"
      ],
      "execution_count": 17,
      "outputs": [
        {
          "output_type": "execute_result",
          "data": {
            "text/plain": [
              "Index(['national_inv', 'lead_time', 'in_transit_qty', 'forecast_3_month',\n",
              "       'forecast_6_month', 'forecast_9_month', 'sales_1_month',\n",
              "       'sales_3_month', 'sales_6_month', 'sales_9_month', 'min_bank',\n",
              "       'pieces_past_due', 'perf_6_month_avg', 'perf_12_month_avg',\n",
              "       'local_bo_qty'],\n",
              "      dtype='object')"
            ]
          },
          "metadata": {
            "tags": []
          },
          "execution_count": 17
        }
      ]
    },
    {
      "cell_type": "code",
      "metadata": {
        "id": "48jtPHUcJVzC",
        "outputId": "3d063bfa-61dc-47d2-d86f-57ee689bd357",
        "colab": {
          "base_uri": "https://localhost:8080/",
          "height": 1000
        }
      },
      "source": [
        "# let's see relationship for target col and every numerical column\n",
        "plot.figure(figsize=(20,25), facecolor='white')\n",
        "plotnumber = 1\n",
        "\n",
        "for column in Numerical_features:\n",
        "    if plotnumber<=15 :\n",
        "        ax = plot.subplot(5,3,plotnumber)\n",
        "        sns.stripplot(y,Numerical_features[column])\n",
        "    plotnumber+=1\n",
        "plot.tight_layout()"
      ],
      "execution_count": 18,
      "outputs": [
        {
          "output_type": "display_data",
          "data": {
            "image/png": "[encoded data removed]",
            "text/plain": [
              "<Figure size 1440x1800 with 15 Axes>"
            ]
          },
          "metadata": {
            "tags": []
          }
        }
      ]
    },
    {
      "cell_type": "markdown",
      "metadata": {
        "id": "u5o5-ybHCBl7"
      },
      "source": [
        "# Categorical Features"
      ]
    },
    {
      "cell_type": "code",
      "metadata": {
        "id": "mKqJtHvrLLfs",
        "outputId": "e254d58a-a3d4-4416-d8da-67c8ad538b2a",
        "colab": {
          "base_uri": "https://localhost:8080/",
          "height": 70
        }
      },
      "source": [
        "Categorical_features=train_df.select_dtypes(include=['object'])\n",
        "Categorical_features.columns"
      ],
      "execution_count": 19,
      "outputs": [
        {
          "output_type": "execute_result",
          "data": {
            "text/plain": [
              "Index(['potential_issue', 'deck_risk', 'oe_constraint', 'ppap_risk',\n",
              "       'stop_auto_buy', 'rev_stop', 'went_on_backorder'],\n",
              "      dtype='object')"
            ]
          },
          "metadata": {
            "tags": []
          },
          "execution_count": 19
        }
      ]
    },
    {
      "cell_type": "markdown",
      "metadata": {
        "id": "uQlVVV68CNGo"
      },
      "source": [
        "Distribution of categorical features"
      ]
    },
    {
      "cell_type": "code",
      "metadata": {
        "id": "fFcZ-DvKxEH7",
        "outputId": "62dae40b-3ba6-4c7a-b853-552aa0b99cbe",
        "colab": {
          "base_uri": "https://localhost:8080/",
          "height": 141
        }
      },
      "source": [
        "#checking how many unique values are in columns\n",
        "for col in Categorical_features.columns:\n",
        "    print(len(train_df[col].unique()))"
      ],
      "execution_count": 20,
      "outputs": [
        {
          "output_type": "stream",
          "text": [
            "2\n",
            "2\n",
            "2\n",
            "2\n",
            "2\n",
            "2\n",
            "2\n"
          ],
          "name": "stdout"
        }
      ]
    },
    {
      "cell_type": "code",
      "metadata": {
        "id": "sE8EReQ7DQmG"
      },
      "source": [
        "str=Categorical_features.columns"
      ],
      "execution_count": 21,
      "outputs": []
    },
    {
      "cell_type": "code",
      "metadata": {
        "id": "BbO0kQB54F0B",
        "outputId": "079fd3ca-4721-4ea1-a08f-67d7ed7273d8",
        "colab": {
          "base_uri": "https://localhost:8080/",
          "height": 35
        }
      },
      "source": [
        "train_df[col].unique()"
      ],
      "execution_count": 22,
      "outputs": [
        {
          "output_type": "execute_result",
          "data": {
            "text/plain": [
              "array(['No', 'Yes'], dtype=object)"
            ]
          },
          "metadata": {
            "tags": []
          },
          "execution_count": 22
        }
      ]
    },
    {
      "cell_type": "code",
      "metadata": {
        "id": "Eq7WDP_gyGGc"
      },
      "source": [
        "#encoding of categorical\n",
        "for col in str:\n",
        "    train_df[col] = train_df[col].map({\"Yes\" : 0, \"No\" : 1})"
      ],
      "execution_count": 23,
      "outputs": []
    },
    {
      "cell_type": "code",
      "metadata": {
        "id": "wS-a5PxRLLb6",
        "outputId": "d7720842-d63a-499c-f3e9-3690b76f2dd3",
        "colab": {
          "base_uri": "https://localhost:8080/",
          "height": 785
        }
      },
      "source": [
        "# let's see distributiion of categorical columns\n",
        "plot.figure(figsize=(20,25), facecolor='white')\n",
        "plotnumber = 1\n",
        "\n",
        "for column in Categorical_features:\n",
        "    if plotnumber<=15 :\n",
        "        ax = plot.subplot(5,3,plotnumber)\n",
        "        sns.distplot(train_df[column])\n",
        "        plot.xlabel(column,fontsize=20)\n",
        "    plotnumber+=1\n",
        "plot.tight_layout()"
      ],
      "execution_count": 24,
      "outputs": [
        {
          "output_type": "display_data",
          "data": {
            "image/png": "[encoded data removed]",
            "text/plain": [
              "<Figure size 1440x1800 with 7 Axes>"
            ]
          },
          "metadata": {
            "tags": []
          }
        }
      ]
    },
    {
      "cell_type": "code",
      "metadata": {
        "id": "66h7wwOcKMh2",
        "outputId": "ff523225-8fd4-4835-cc22-73cea823f818",
        "colab": {
          "base_uri": "https://localhost:8080/",
          "height": 311
        }
      },
      "source": [
        "train_df.describe(include=\"all\")"
      ],
      "execution_count": 25,
      "outputs": [
        {
          "output_type": "execute_result",
          "data": {
            "text/html": [
              "<div>\n",
              "<style scoped>\n",
              "    .dataframe tbody tr th:only-of-type {\n",
              "        vertical-align: middle;\n",
              "    }\n",
              "\n",
              "    .dataframe tbody tr th {\n",
              "        vertical-align: top;\n",
              "    }\n",
              "\n",
              "    .dataframe thead th {\n",
              "        text-align: right;\n",
              "    }\n",
              "</style>\n",
              "<table border=\"1\" class=\"dataframe\">\n",
              "  <thead>\n",
              "    <tr style=\"text-align: right;\">\n",
              "      <th></th>\n",
              "      <th>national_inv</th>\n",
              "      <th>lead_time</th>\n",
              "      <th>in_transit_qty</th>\n",
              "      <th>forecast_3_month</th>\n",
              "      <th>forecast_6_month</th>\n",
              "      <th>forecast_9_month</th>\n",
              "      <th>sales_1_month</th>\n",
              "      <th>sales_3_month</th>\n",
              "      <th>sales_6_month</th>\n",
              "      <th>sales_9_month</th>\n",
              "      <th>min_bank</th>\n",
              "      <th>potential_issue</th>\n",
              "      <th>pieces_past_due</th>\n",
              "      <th>perf_6_month_avg</th>\n",
              "      <th>perf_12_month_avg</th>\n",
              "      <th>local_bo_qty</th>\n",
              "      <th>deck_risk</th>\n",
              "      <th>oe_constraint</th>\n",
              "      <th>ppap_risk</th>\n",
              "      <th>stop_auto_buy</th>\n",
              "      <th>rev_stop</th>\n",
              "      <th>went_on_backorder</th>\n",
              "    </tr>\n",
              "  </thead>\n",
              "  <tbody>\n",
              "    <tr>\n",
              "      <th>count</th>\n",
              "      <td>2.888800e+04</td>\n",
              "      <td>28888.000000</td>\n",
              "      <td>28888.000000</td>\n",
              "      <td>2.888800e+04</td>\n",
              "      <td>2.888800e+04</td>\n",
              "      <td>2.888800e+04</td>\n",
              "      <td>28888.000000</td>\n",
              "      <td>28888.000000</td>\n",
              "      <td>2.888800e+04</td>\n",
              "      <td>2.888800e+04</td>\n",
              "      <td>28888.000000</td>\n",
              "      <td>28888.000000</td>\n",
              "      <td>28888.000000</td>\n",
              "      <td>28888.000000</td>\n",
              "      <td>28888.000000</td>\n",
              "      <td>28888.000000</td>\n",
              "      <td>28888.000000</td>\n",
              "      <td>28888.000000</td>\n",
              "      <td>28888.000000</td>\n",
              "      <td>28888.000000</td>\n",
              "      <td>28888.000000</td>\n",
              "      <td>28888.000000</td>\n",
              "    </tr>\n",
              "    <tr>\n",
              "      <th>mean</th>\n",
              "      <td>8.316310e+02</td>\n",
              "      <td>7.872611</td>\n",
              "      <td>46.955760</td>\n",
              "      <td>1.896937e+02</td>\n",
              "      <td>3.750776e+02</td>\n",
              "      <td>5.481241e+02</td>\n",
              "      <td>73.904770</td>\n",
              "      <td>216.100699</td>\n",
              "      <td>4.036777e+02</td>\n",
              "      <td>6.738293e+02</td>\n",
              "      <td>69.422113</td>\n",
              "      <td>0.999550</td>\n",
              "      <td>2.484250</td>\n",
              "      <td>-7.328238</td>\n",
              "      <td>-6.884367</td>\n",
              "      <td>0.711333</td>\n",
              "      <td>0.760108</td>\n",
              "      <td>0.999792</td>\n",
              "      <td>0.877735</td>\n",
              "      <td>0.034236</td>\n",
              "      <td>0.999585</td>\n",
              "      <td>0.989373</td>\n",
              "    </tr>\n",
              "    <tr>\n",
              "      <th>std</th>\n",
              "      <td>7.294688e+04</td>\n",
              "      <td>6.826944</td>\n",
              "      <td>1538.369241</td>\n",
              "      <td>6.960156e+03</td>\n",
              "      <td>1.382800e+04</td>\n",
              "      <td>1.990514e+04</td>\n",
              "      <td>2903.628039</td>\n",
              "      <td>7346.437680</td>\n",
              "      <td>1.282701e+04</td>\n",
              "      <td>2.215093e+04</td>\n",
              "      <td>2418.320586</td>\n",
              "      <td>0.021209</td>\n",
              "      <td>184.899932</td>\n",
              "      <td>27.280860</td>\n",
              "      <td>26.572416</td>\n",
              "      <td>37.811181</td>\n",
              "      <td>0.427025</td>\n",
              "      <td>0.014411</td>\n",
              "      <td>0.327598</td>\n",
              "      <td>0.181837</td>\n",
              "      <td>0.020377</td>\n",
              "      <td>0.102541</td>\n",
              "    </tr>\n",
              "    <tr>\n",
              "      <th>min</th>\n",
              "      <td>-1.186000e+03</td>\n",
              "      <td>0.000000</td>\n",
              "      <td>0.000000</td>\n",
              "      <td>0.000000e+00</td>\n",
              "      <td>0.000000e+00</td>\n",
              "      <td>0.000000e+00</td>\n",
              "      <td>0.000000</td>\n",
              "      <td>0.000000</td>\n",
              "      <td>0.000000e+00</td>\n",
              "      <td>0.000000e+00</td>\n",
              "      <td>0.000000</td>\n",
              "      <td>0.000000</td>\n",
              "      <td>0.000000</td>\n",
              "      <td>-99.000000</td>\n",
              "      <td>-99.000000</td>\n",
              "      <td>0.000000</td>\n",
              "      <td>0.000000</td>\n",
              "      <td>0.000000</td>\n",
              "      <td>0.000000</td>\n",
              "      <td>0.000000</td>\n",
              "      <td>0.000000</td>\n",
              "      <td>0.000000</td>\n",
              "    </tr>\n",
              "    <tr>\n",
              "      <th>25%</th>\n",
              "      <td>4.000000e+00</td>\n",
              "      <td>4.000000</td>\n",
              "      <td>0.000000</td>\n",
              "      <td>0.000000e+00</td>\n",
              "      <td>0.000000e+00</td>\n",
              "      <td>0.000000e+00</td>\n",
              "      <td>0.000000</td>\n",
              "      <td>0.000000</td>\n",
              "      <td>0.000000e+00</td>\n",
              "      <td>0.000000e+00</td>\n",
              "      <td>0.000000</td>\n",
              "      <td>1.000000</td>\n",
              "      <td>0.000000</td>\n",
              "      <td>0.630000</td>\n",
              "      <td>0.660000</td>\n",
              "      <td>0.000000</td>\n",
              "      <td>1.000000</td>\n",
              "      <td>1.000000</td>\n",
              "      <td>1.000000</td>\n",
              "      <td>0.000000</td>\n",
              "      <td>1.000000</td>\n",
              "      <td>1.000000</td>\n",
              "    </tr>\n",
              "    <tr>\n",
              "      <th>50%</th>\n",
              "      <td>1.500000e+01</td>\n",
              "      <td>8.000000</td>\n",
              "      <td>0.000000</td>\n",
              "      <td>0.000000e+00</td>\n",
              "      <td>0.000000e+00</td>\n",
              "      <td>0.000000e+00</td>\n",
              "      <td>0.000000</td>\n",
              "      <td>1.000000</td>\n",
              "      <td>2.000000e+00</td>\n",
              "      <td>3.000000e+00</td>\n",
              "      <td>0.000000</td>\n",
              "      <td>1.000000</td>\n",
              "      <td>0.000000</td>\n",
              "      <td>0.820000</td>\n",
              "      <td>0.810000</td>\n",
              "      <td>0.000000</td>\n",
              "      <td>1.000000</td>\n",
              "      <td>1.000000</td>\n",
              "      <td>1.000000</td>\n",
              "      <td>0.000000</td>\n",
              "      <td>1.000000</td>\n",
              "      <td>1.000000</td>\n",
              "    </tr>\n",
              "    <tr>\n",
              "      <th>75%</th>\n",
              "      <td>8.100000e+01</td>\n",
              "      <td>8.000000</td>\n",
              "      <td>0.000000</td>\n",
              "      <td>4.000000e+00</td>\n",
              "      <td>1.100000e+01</td>\n",
              "      <td>2.000000e+01</td>\n",
              "      <td>4.000000</td>\n",
              "      <td>14.000000</td>\n",
              "      <td>2.900000e+01</td>\n",
              "      <td>4.500000e+01</td>\n",
              "      <td>3.000000</td>\n",
              "      <td>1.000000</td>\n",
              "      <td>0.000000</td>\n",
              "      <td>0.970000</td>\n",
              "      <td>0.950000</td>\n",
              "      <td>0.000000</td>\n",
              "      <td>1.000000</td>\n",
              "      <td>1.000000</td>\n",
              "      <td>1.000000</td>\n",
              "      <td>0.000000</td>\n",
              "      <td>1.000000</td>\n",
              "      <td>1.000000</td>\n",
              "    </tr>\n",
              "    <tr>\n",
              "      <th>max</th>\n",
              "      <td>1.233440e+07</td>\n",
              "      <td>52.000000</td>\n",
              "      <td>217729.000000</td>\n",
              "      <td>1.046592e+06</td>\n",
              "      <td>2.104128e+06</td>\n",
              "      <td>3.002688e+06</td>\n",
              "      <td>361803.000000</td>\n",
              "      <td>884575.000000</td>\n",
              "      <td>1.763533e+06</td>\n",
              "      <td>2.758103e+06</td>\n",
              "      <td>309667.000000</td>\n",
              "      <td>1.000000</td>\n",
              "      <td>23616.000000</td>\n",
              "      <td>1.000000</td>\n",
              "      <td>1.000000</td>\n",
              "      <td>5208.000000</td>\n",
              "      <td>1.000000</td>\n",
              "      <td>1.000000</td>\n",
              "      <td>1.000000</td>\n",
              "      <td>1.000000</td>\n",
              "      <td>1.000000</td>\n",
              "      <td>1.000000</td>\n",
              "    </tr>\n",
              "  </tbody>\n",
              "</table>\n",
              "</div>"
            ],
            "text/plain": [
              "       national_inv     lead_time  ...      rev_stop  went_on_backorder\n",
              "count  2.888800e+04  28888.000000  ...  28888.000000       28888.000000\n",
              "mean   8.316310e+02      7.872611  ...      0.999585           0.989373\n",
              "std    7.294688e+04      6.826944  ...      0.020377           0.102541\n",
              "min   -1.186000e+03      0.000000  ...      0.000000           0.000000\n",
              "25%    4.000000e+00      4.000000  ...      1.000000           1.000000\n",
              "50%    1.500000e+01      8.000000  ...      1.000000           1.000000\n",
              "75%    8.100000e+01      8.000000  ...      1.000000           1.000000\n",
              "max    1.233440e+07     52.000000  ...      1.000000           1.000000\n",
              "\n",
              "[8 rows x 22 columns]"
            ]
          },
          "metadata": {
            "tags": []
          },
          "execution_count": 25
        }
      ]
    },
    {
      "cell_type": "code",
      "metadata": {
        "id": "V0q0X4uQUr2h",
        "outputId": "368425cf-f77f-4db8-cfc3-b25bc350f5e8",
        "colab": {
          "base_uri": "https://localhost:8080/",
          "height": 426
        }
      },
      "source": [
        "train_df.isnull().sum()"
      ],
      "execution_count": 26,
      "outputs": [
        {
          "output_type": "execute_result",
          "data": {
            "text/plain": [
              "national_inv         0\n",
              "lead_time            0\n",
              "in_transit_qty       0\n",
              "forecast_3_month     0\n",
              "forecast_6_month     0\n",
              "forecast_9_month     0\n",
              "sales_1_month        0\n",
              "sales_3_month        0\n",
              "sales_6_month        0\n",
              "sales_9_month        0\n",
              "min_bank             0\n",
              "potential_issue      0\n",
              "pieces_past_due      0\n",
              "perf_6_month_avg     0\n",
              "perf_12_month_avg    0\n",
              "local_bo_qty         0\n",
              "deck_risk            0\n",
              "oe_constraint        0\n",
              "ppap_risk            0\n",
              "stop_auto_buy        0\n",
              "rev_stop             0\n",
              "went_on_backorder    0\n",
              "dtype: int64"
            ]
          },
          "metadata": {
            "tags": []
          },
          "execution_count": 26
        }
      ]
    },
    {
      "cell_type": "code",
      "metadata": {
        "id": "dNC81eWRGvPY",
        "outputId": "80a610d8-76fb-47c7-9f5c-62391c84cd03",
        "colab": {
          "base_uri": "https://localhost:8080/",
          "height": 532
        }
      },
      "source": [
        "train_df.info()"
      ],
      "execution_count": 27,
      "outputs": [
        {
          "output_type": "stream",
          "text": [
            "<class 'pandas.core.frame.DataFrame'>\n",
            "Int64Index: 28888 entries, 0 to 28887\n",
            "Data columns (total 22 columns):\n",
            " #   Column             Non-Null Count  Dtype  \n",
            "---  ------             --------------  -----  \n",
            " 0   national_inv       28888 non-null  int64  \n",
            " 1   lead_time          28888 non-null  float64\n",
            " 2   in_transit_qty     28888 non-null  int64  \n",
            " 3   forecast_3_month   28888 non-null  int64  \n",
            " 4   forecast_6_month   28888 non-null  int64  \n",
            " 5   forecast_9_month   28888 non-null  int64  \n",
            " 6   sales_1_month      28888 non-null  int64  \n",
            " 7   sales_3_month      28888 non-null  float64\n",
            " 8   sales_6_month      28888 non-null  float64\n",
            " 9   sales_9_month      28888 non-null  float64\n",
            " 10  min_bank           28888 non-null  float64\n",
            " 11  potential_issue    28888 non-null  int64  \n",
            " 12  pieces_past_due    28888 non-null  float64\n",
            " 13  perf_6_month_avg   28888 non-null  float64\n",
            " 14  perf_12_month_avg  28888 non-null  float64\n",
            " 15  local_bo_qty       28888 non-null  float64\n",
            " 16  deck_risk          28888 non-null  int64  \n",
            " 17  oe_constraint      28888 non-null  int64  \n",
            " 18  ppap_risk          28888 non-null  int64  \n",
            " 19  stop_auto_buy      28888 non-null  int64  \n",
            " 20  rev_stop           28888 non-null  int64  \n",
            " 21  went_on_backorder  28888 non-null  int64  \n",
            "dtypes: float64(9), int64(13)\n",
            "memory usage: 6.3 MB\n"
          ],
          "name": "stdout"
        }
      ]
    },
    {
      "cell_type": "code",
      "metadata": {
        "id": "Q5el-RRFzQdg"
      },
      "source": [
        "X = train_df.drop([\"went_on_backorder\"],axis=1)"
      ],
      "execution_count": 28,
      "outputs": []
    },
    {
      "cell_type": "code",
      "metadata": {
        "id": "y7GXZ57QLnh2"
      },
      "source": [
        "y =train_df[\"went_on_backorder\"]"
      ],
      "execution_count": 29,
      "outputs": []
    },
    {
      "cell_type": "markdown",
      "metadata": {
        "id": "uc7fkK6DPqod"
      },
      "source": [
        " Let's proceed by checking multicollinearity in the dependent variables. Before that, we should scale our data. Let's use the standard scaler for that."
      ]
    },
    {
      "cell_type": "code",
      "metadata": {
        "id": "zTDVNK3DzeGl"
      },
      "source": [
        "from sklearn.preprocessing import StandardScaler"
      ],
      "execution_count": 30,
      "outputs": []
    },
    {
      "cell_type": "code",
      "metadata": {
        "id": "R04osTUDzhxo"
      },
      "source": [
        "scalar = StandardScaler()"
      ],
      "execution_count": 31,
      "outputs": []
    },
    {
      "cell_type": "code",
      "metadata": {
        "id": "67ab5z8MzlIX",
        "outputId": "ee306ade-5f7e-4538-fb61-35789e580453",
        "colab": {
          "base_uri": "https://localhost:8080/",
          "height": 431
        }
      },
      "source": [
        "X_scaled = pd.DataFrame(scalar.fit_transform(X),columns=X.columns)\n",
        "\n",
        "X_scaled"
      ],
      "execution_count": 32,
      "outputs": [
        {
          "output_type": "execute_result",
          "data": {
            "text/html": [
              "<div>\n",
              "<style scoped>\n",
              "    .dataframe tbody tr th:only-of-type {\n",
              "        vertical-align: middle;\n",
              "    }\n",
              "\n",
              "    .dataframe tbody tr th {\n",
              "        vertical-align: top;\n",
              "    }\n",
              "\n",
              "    .dataframe thead th {\n",
              "        text-align: right;\n",
              "    }\n",
              "</style>\n",
              "<table border=\"1\" class=\"dataframe\">\n",
              "  <thead>\n",
              "    <tr style=\"text-align: right;\">\n",
              "      <th></th>\n",
              "      <th>national_inv</th>\n",
              "      <th>lead_time</th>\n",
              "      <th>in_transit_qty</th>\n",
              "      <th>forecast_3_month</th>\n",
              "      <th>forecast_6_month</th>\n",
              "      <th>forecast_9_month</th>\n",
              "      <th>sales_1_month</th>\n",
              "      <th>sales_3_month</th>\n",
              "      <th>sales_6_month</th>\n",
              "      <th>sales_9_month</th>\n",
              "      <th>min_bank</th>\n",
              "      <th>potential_issue</th>\n",
              "      <th>pieces_past_due</th>\n",
              "      <th>perf_6_month_avg</th>\n",
              "      <th>perf_12_month_avg</th>\n",
              "      <th>local_bo_qty</th>\n",
              "      <th>deck_risk</th>\n",
              "      <th>oe_constraint</th>\n",
              "      <th>ppap_risk</th>\n",
              "      <th>stop_auto_buy</th>\n",
              "      <th>rev_stop</th>\n",
              "    </tr>\n",
              "  </thead>\n",
              "  <tbody>\n",
              "    <tr>\n",
              "      <th>0</th>\n",
              "      <td>-0.011401</td>\n",
              "      <td>0.018660</td>\n",
              "      <td>-0.030524</td>\n",
              "      <td>-0.027255</td>\n",
              "      <td>-0.027125</td>\n",
              "      <td>-0.027537</td>\n",
              "      <td>-0.025453</td>\n",
              "      <td>-0.029416</td>\n",
              "      <td>-0.031471</td>\n",
              "      <td>-0.030420</td>\n",
              "      <td>-0.028707</td>\n",
              "      <td>0.021218</td>\n",
              "      <td>-0.013436</td>\n",
              "      <td>-3.360354</td>\n",
              "      <td>-3.466649</td>\n",
              "      <td>-0.018813</td>\n",
              "      <td>0.561785</td>\n",
              "      <td>0.014413</td>\n",
              "      <td>0.373224</td>\n",
              "      <td>-0.18828</td>\n",
              "      <td>0.020386</td>\n",
              "    </tr>\n",
              "    <tr>\n",
              "      <th>1</th>\n",
              "      <td>-0.011373</td>\n",
              "      <td>0.165141</td>\n",
              "      <td>-0.030524</td>\n",
              "      <td>-0.027255</td>\n",
              "      <td>-0.027125</td>\n",
              "      <td>-0.027537</td>\n",
              "      <td>-0.025453</td>\n",
              "      <td>-0.029416</td>\n",
              "      <td>-0.031471</td>\n",
              "      <td>-0.030420</td>\n",
              "      <td>-0.028707</td>\n",
              "      <td>0.021218</td>\n",
              "      <td>-0.013436</td>\n",
              "      <td>0.304916</td>\n",
              "      <td>0.296341</td>\n",
              "      <td>-0.018813</td>\n",
              "      <td>0.561785</td>\n",
              "      <td>0.014413</td>\n",
              "      <td>0.373224</td>\n",
              "      <td>-0.18828</td>\n",
              "      <td>0.020386</td>\n",
              "    </tr>\n",
              "    <tr>\n",
              "      <th>2</th>\n",
              "      <td>-0.011373</td>\n",
              "      <td>0.018660</td>\n",
              "      <td>-0.030524</td>\n",
              "      <td>-0.027255</td>\n",
              "      <td>-0.027125</td>\n",
              "      <td>-0.027537</td>\n",
              "      <td>-0.025453</td>\n",
              "      <td>-0.029416</td>\n",
              "      <td>-0.031471</td>\n",
              "      <td>-0.030420</td>\n",
              "      <td>-0.028707</td>\n",
              "      <td>0.021218</td>\n",
              "      <td>-0.013436</td>\n",
              "      <td>-3.360354</td>\n",
              "      <td>-3.466649</td>\n",
              "      <td>-0.018813</td>\n",
              "      <td>-1.780040</td>\n",
              "      <td>0.014413</td>\n",
              "      <td>0.373224</td>\n",
              "      <td>-0.18828</td>\n",
              "      <td>0.020386</td>\n",
              "    </tr>\n",
              "    <tr>\n",
              "      <th>3</th>\n",
              "      <td>-0.011305</td>\n",
              "      <td>0.018660</td>\n",
              "      <td>-0.030524</td>\n",
              "      <td>-0.027255</td>\n",
              "      <td>-0.027125</td>\n",
              "      <td>-0.027537</td>\n",
              "      <td>-0.025453</td>\n",
              "      <td>-0.029416</td>\n",
              "      <td>-0.031471</td>\n",
              "      <td>-0.030420</td>\n",
              "      <td>-0.028294</td>\n",
              "      <td>0.021218</td>\n",
              "      <td>-0.013436</td>\n",
              "      <td>0.272292</td>\n",
              "      <td>0.263976</td>\n",
              "      <td>-0.018813</td>\n",
              "      <td>0.561785</td>\n",
              "      <td>0.014413</td>\n",
              "      <td>0.373224</td>\n",
              "      <td>-0.18828</td>\n",
              "      <td>0.020386</td>\n",
              "    </tr>\n",
              "    <tr>\n",
              "      <th>4</th>\n",
              "      <td>-0.011291</td>\n",
              "      <td>0.018660</td>\n",
              "      <td>-0.030524</td>\n",
              "      <td>-0.027255</td>\n",
              "      <td>-0.027125</td>\n",
              "      <td>-0.027537</td>\n",
              "      <td>-0.025453</td>\n",
              "      <td>-0.029416</td>\n",
              "      <td>-0.031471</td>\n",
              "      <td>-0.030240</td>\n",
              "      <td>-0.027880</td>\n",
              "      <td>0.021218</td>\n",
              "      <td>-0.013436</td>\n",
              "      <td>-3.360354</td>\n",
              "      <td>-3.466649</td>\n",
              "      <td>-0.018813</td>\n",
              "      <td>-1.780040</td>\n",
              "      <td>0.014413</td>\n",
              "      <td>0.373224</td>\n",
              "      <td>-0.18828</td>\n",
              "      <td>0.020386</td>\n",
              "    </tr>\n",
              "    <tr>\n",
              "      <th>...</th>\n",
              "      <td>...</td>\n",
              "      <td>...</td>\n",
              "      <td>...</td>\n",
              "      <td>...</td>\n",
              "      <td>...</td>\n",
              "      <td>...</td>\n",
              "      <td>...</td>\n",
              "      <td>...</td>\n",
              "      <td>...</td>\n",
              "      <td>...</td>\n",
              "      <td>...</td>\n",
              "      <td>...</td>\n",
              "      <td>...</td>\n",
              "      <td>...</td>\n",
              "      <td>...</td>\n",
              "      <td>...</td>\n",
              "      <td>...</td>\n",
              "      <td>...</td>\n",
              "      <td>...</td>\n",
              "      <td>...</td>\n",
              "      <td>...</td>\n",
              "    </tr>\n",
              "    <tr>\n",
              "      <th>28883</th>\n",
              "      <td>0.259308</td>\n",
              "      <td>0.018660</td>\n",
              "      <td>-0.030524</td>\n",
              "      <td>1.344146</td>\n",
              "      <td>1.988459</td>\n",
              "      <td>2.288387</td>\n",
              "      <td>-0.025453</td>\n",
              "      <td>-0.029416</td>\n",
              "      <td>-0.031471</td>\n",
              "      <td>-0.030420</td>\n",
              "      <td>-0.028707</td>\n",
              "      <td>0.021218</td>\n",
              "      <td>-0.013436</td>\n",
              "      <td>-3.360354</td>\n",
              "      <td>-3.466649</td>\n",
              "      <td>-0.018813</td>\n",
              "      <td>0.561785</td>\n",
              "      <td>0.014413</td>\n",
              "      <td>0.373224</td>\n",
              "      <td>-0.18828</td>\n",
              "      <td>0.020386</td>\n",
              "    </tr>\n",
              "    <tr>\n",
              "      <th>28884</th>\n",
              "      <td>-0.011346</td>\n",
              "      <td>-0.860226</td>\n",
              "      <td>-0.030524</td>\n",
              "      <td>-0.027255</td>\n",
              "      <td>-0.027125</td>\n",
              "      <td>-0.027537</td>\n",
              "      <td>-0.025453</td>\n",
              "      <td>-0.029416</td>\n",
              "      <td>-0.031238</td>\n",
              "      <td>-0.030104</td>\n",
              "      <td>-0.028707</td>\n",
              "      <td>0.021218</td>\n",
              "      <td>-0.013436</td>\n",
              "      <td>0.292087</td>\n",
              "      <td>0.284675</td>\n",
              "      <td>-0.018813</td>\n",
              "      <td>0.561785</td>\n",
              "      <td>0.014413</td>\n",
              "      <td>0.373224</td>\n",
              "      <td>-0.18828</td>\n",
              "      <td>0.020386</td>\n",
              "    </tr>\n",
              "    <tr>\n",
              "      <th>28885</th>\n",
              "      <td>-0.011360</td>\n",
              "      <td>0.604584</td>\n",
              "      <td>-0.029874</td>\n",
              "      <td>-0.027255</td>\n",
              "      <td>-0.027053</td>\n",
              "      <td>-0.027387</td>\n",
              "      <td>-0.025109</td>\n",
              "      <td>-0.029280</td>\n",
              "      <td>-0.031082</td>\n",
              "      <td>-0.030059</td>\n",
              "      <td>-0.028707</td>\n",
              "      <td>0.021218</td>\n",
              "      <td>-0.013436</td>\n",
              "      <td>0.298685</td>\n",
              "      <td>0.288815</td>\n",
              "      <td>-0.018813</td>\n",
              "      <td>0.561785</td>\n",
              "      <td>0.014413</td>\n",
              "      <td>0.373224</td>\n",
              "      <td>-0.18828</td>\n",
              "      <td>0.020386</td>\n",
              "    </tr>\n",
              "    <tr>\n",
              "      <th>28886</th>\n",
              "      <td>-0.011318</td>\n",
              "      <td>0.604584</td>\n",
              "      <td>-0.027273</td>\n",
              "      <td>-0.027255</td>\n",
              "      <td>-0.027125</td>\n",
              "      <td>-0.027537</td>\n",
              "      <td>-0.025109</td>\n",
              "      <td>-0.028872</td>\n",
              "      <td>-0.030380</td>\n",
              "      <td>-0.029788</td>\n",
              "      <td>-0.028707</td>\n",
              "      <td>0.021218</td>\n",
              "      <td>-0.013436</td>\n",
              "      <td>0.298685</td>\n",
              "      <td>0.288815</td>\n",
              "      <td>-0.018813</td>\n",
              "      <td>-1.780040</td>\n",
              "      <td>0.014413</td>\n",
              "      <td>0.373224</td>\n",
              "      <td>-0.18828</td>\n",
              "      <td>0.020386</td>\n",
              "    </tr>\n",
              "    <tr>\n",
              "      <th>28887</th>\n",
              "      <td>-0.010976</td>\n",
              "      <td>-0.860226</td>\n",
              "      <td>-0.030524</td>\n",
              "      <td>-0.027255</td>\n",
              "      <td>-0.027125</td>\n",
              "      <td>-0.027537</td>\n",
              "      <td>-0.025453</td>\n",
              "      <td>-0.029416</td>\n",
              "      <td>-0.031004</td>\n",
              "      <td>-0.030104</td>\n",
              "      <td>-0.028707</td>\n",
              "      <td>0.021218</td>\n",
              "      <td>-0.013436</td>\n",
              "      <td>0.302350</td>\n",
              "      <td>0.294836</td>\n",
              "      <td>-0.018813</td>\n",
              "      <td>-1.780040</td>\n",
              "      <td>0.014413</td>\n",
              "      <td>0.373224</td>\n",
              "      <td>-0.18828</td>\n",
              "      <td>0.020386</td>\n",
              "    </tr>\n",
              "  </tbody>\n",
              "</table>\n",
              "<p>28888 rows × 21 columns</p>\n",
              "</div>"
            ],
            "text/plain": [
              "       national_inv  lead_time  ...  stop_auto_buy  rev_stop\n",
              "0         -0.011401   0.018660  ...       -0.18828  0.020386\n",
              "1         -0.011373   0.165141  ...       -0.18828  0.020386\n",
              "2         -0.011373   0.018660  ...       -0.18828  0.020386\n",
              "3         -0.011305   0.018660  ...       -0.18828  0.020386\n",
              "4         -0.011291   0.018660  ...       -0.18828  0.020386\n",
              "...             ...        ...  ...            ...       ...\n",
              "28883      0.259308   0.018660  ...       -0.18828  0.020386\n",
              "28884     -0.011346  -0.860226  ...       -0.18828  0.020386\n",
              "28885     -0.011360   0.604584  ...       -0.18828  0.020386\n",
              "28886     -0.011318   0.604584  ...       -0.18828  0.020386\n",
              "28887     -0.010976  -0.860226  ...       -0.18828  0.020386\n",
              "\n",
              "[28888 rows x 21 columns]"
            ]
          },
          "metadata": {
            "tags": []
          },
          "execution_count": 32
        }
      ]
    },
    {
      "cell_type": "code",
      "metadata": {
        "id": "1G6VPNFZzweQ"
      },
      "source": [
        "from statsmodels.stats.outliers_influence import variance_inflation_factor\n",
        "variables = X_scaled.values\n",
        "\n",
        "# we create a new data frame which will include all the VIFs\n",
        "# note that each variable has its own variance inflation factor as this measure is variable specific (not model specific)\n",
        "# we do not include categorical values for mulitcollinearity as they do not provide much information as numerical ones do\n",
        "vif = pd.DataFrame()\n",
        "\n",
        "# here we make use of the variance_inflation_factor, which will basically output the respective VIFs \n",
        "vif[\"VIF\"] = [variance_inflation_factor(variables, i) for i in range(variables.shape[1])]\n",
        "# Finally, I like to include names so it is easier to explore the result\n",
        "vif[\"Features\"] = X.columns"
      ],
      "execution_count": 33,
      "outputs": []
    },
    {
      "cell_type": "code",
      "metadata": {
        "id": "BS9NsxXW13vC",
        "outputId": "97849dc3-73ae-4bb2-d71a-d8cd0996625b",
        "colab": {
          "base_uri": "https://localhost:8080/",
          "height": 295
        }
      },
      "source": [
        "from sklearn.decomposition import PCA\n",
        "import numpy as np\n",
        "pca = PCA()\n",
        "principalComponents = pca.fit_transform(X_scaled)\n",
        "plot.figure()\n",
        "plot.plot(np.cumsum(pca.explained_variance_ratio_))\n",
        "plot.xlabel('Number of Components')\n",
        "plot.ylabel('Variance (%)') #for each component\n",
        "plot.title('Explained Variance')\n",
        "plot.show()"
      ],
      "execution_count": 34,
      "outputs": [
        {
          "output_type": "display_data",
          "data": {
            "image/png": "[encoded data removed]",
            "text/plain": [
              "<Figure size 432x288 with 1 Axes>"
            ]
          },
          "metadata": {
            "tags": [],
            "needs_background": "light"
          }
        }
      ]
    },
    {
      "cell_type": "code",
      "metadata": {
        "id": "62e5UKr316Cg"
      },
      "source": [
        "pca = PCA(n_components=10)\n",
        "new_data = pca.fit_transform(X_scaled)\n",
        "\n",
        "principal_x = pd.DataFrame(new_data,columns=['PC-1','PC-2','PC-3','PC-4','PC-5','PC-6','PC-7','PC-8','PC-9','PC-10'])"
      ],
      "execution_count": 35,
      "outputs": []
    },
    {
      "cell_type": "code",
      "metadata": {
        "id": "tt2fY-5NLfuw",
        "outputId": "6b4b92e1-71d7-491d-dfe3-8a143d3cea16",
        "colab": {
          "base_uri": "https://localhost:8080/",
          "height": 411
        }
      },
      "source": [
        "principal_x"
      ],
      "execution_count": 36,
      "outputs": [
        {
          "output_type": "execute_result",
          "data": {
            "text/html": [
              "<div>\n",
              "<style scoped>\n",
              "    .dataframe tbody tr th:only-of-type {\n",
              "        vertical-align: middle;\n",
              "    }\n",
              "\n",
              "    .dataframe tbody tr th {\n",
              "        vertical-align: top;\n",
              "    }\n",
              "\n",
              "    .dataframe thead th {\n",
              "        text-align: right;\n",
              "    }\n",
              "</style>\n",
              "<table border=\"1\" class=\"dataframe\">\n",
              "  <thead>\n",
              "    <tr style=\"text-align: right;\">\n",
              "      <th></th>\n",
              "      <th>PC-1</th>\n",
              "      <th>PC-2</th>\n",
              "      <th>PC-3</th>\n",
              "      <th>PC-4</th>\n",
              "      <th>PC-5</th>\n",
              "      <th>PC-6</th>\n",
              "      <th>PC-7</th>\n",
              "      <th>PC-8</th>\n",
              "      <th>PC-9</th>\n",
              "      <th>PC-10</th>\n",
              "    </tr>\n",
              "  </thead>\n",
              "  <tbody>\n",
              "    <tr>\n",
              "      <th>0</th>\n",
              "      <td>-0.062846</td>\n",
              "      <td>4.037727</td>\n",
              "      <td>-0.437076</td>\n",
              "      <td>1.942977</td>\n",
              "      <td>0.163880</td>\n",
              "      <td>0.230046</td>\n",
              "      <td>0.258705</td>\n",
              "      <td>0.026143</td>\n",
              "      <td>0.044715</td>\n",
              "      <td>-0.551154</td>\n",
              "    </tr>\n",
              "    <tr>\n",
              "      <th>1</th>\n",
              "      <td>-0.086634</td>\n",
              "      <td>-0.595084</td>\n",
              "      <td>0.055857</td>\n",
              "      <td>-0.059903</td>\n",
              "      <td>0.156167</td>\n",
              "      <td>0.181944</td>\n",
              "      <td>0.102778</td>\n",
              "      <td>-0.001257</td>\n",
              "      <td>-0.018729</td>\n",
              "      <td>-0.298514</td>\n",
              "    </tr>\n",
              "    <tr>\n",
              "      <th>2</th>\n",
              "      <td>-0.078641</td>\n",
              "      <td>4.698855</td>\n",
              "      <td>-0.567305</td>\n",
              "      <td>1.503702</td>\n",
              "      <td>0.389523</td>\n",
              "      <td>-0.354658</td>\n",
              "      <td>0.248180</td>\n",
              "      <td>0.025648</td>\n",
              "      <td>0.096847</td>\n",
              "      <td>-0.395742</td>\n",
              "    </tr>\n",
              "    <tr>\n",
              "      <th>3</th>\n",
              "      <td>-0.085996</td>\n",
              "      <td>-0.574470</td>\n",
              "      <td>0.055036</td>\n",
              "      <td>0.067856</td>\n",
              "      <td>0.142085</td>\n",
              "      <td>0.180326</td>\n",
              "      <td>0.103945</td>\n",
              "      <td>-0.000624</td>\n",
              "      <td>-0.025721</td>\n",
              "      <td>-0.298586</td>\n",
              "    </tr>\n",
              "    <tr>\n",
              "      <th>4</th>\n",
              "      <td>-0.078329</td>\n",
              "      <td>4.698896</td>\n",
              "      <td>-0.566933</td>\n",
              "      <td>1.503708</td>\n",
              "      <td>0.389630</td>\n",
              "      <td>-0.354621</td>\n",
              "      <td>0.248128</td>\n",
              "      <td>0.025645</td>\n",
              "      <td>0.096847</td>\n",
              "      <td>-0.395695</td>\n",
              "    </tr>\n",
              "    <tr>\n",
              "      <th>...</th>\n",
              "      <td>...</td>\n",
              "      <td>...</td>\n",
              "      <td>...</td>\n",
              "      <td>...</td>\n",
              "      <td>...</td>\n",
              "      <td>...</td>\n",
              "      <td>...</td>\n",
              "      <td>...</td>\n",
              "      <td>...</td>\n",
              "      <td>...</td>\n",
              "    </tr>\n",
              "    <tr>\n",
              "      <th>28883</th>\n",
              "      <td>1.840505</td>\n",
              "      <td>3.847122</td>\n",
              "      <td>-2.066401</td>\n",
              "      <td>1.971888</td>\n",
              "      <td>0.347464</td>\n",
              "      <td>0.297395</td>\n",
              "      <td>0.139653</td>\n",
              "      <td>0.012263</td>\n",
              "      <td>0.032196</td>\n",
              "      <td>-0.426940</td>\n",
              "    </tr>\n",
              "    <tr>\n",
              "      <th>28884</th>\n",
              "      <td>-0.084240</td>\n",
              "      <td>-0.720559</td>\n",
              "      <td>0.077434</td>\n",
              "      <td>0.724789</td>\n",
              "      <td>0.055977</td>\n",
              "      <td>0.167603</td>\n",
              "      <td>0.102076</td>\n",
              "      <td>0.001617</td>\n",
              "      <td>-0.071783</td>\n",
              "      <td>-0.284394</td>\n",
              "    </tr>\n",
              "    <tr>\n",
              "      <th>28885</th>\n",
              "      <td>-0.086861</td>\n",
              "      <td>-0.526086</td>\n",
              "      <td>0.045301</td>\n",
              "      <td>-0.390036</td>\n",
              "      <td>0.199010</td>\n",
              "      <td>0.188180</td>\n",
              "      <td>0.103654</td>\n",
              "      <td>-0.002396</td>\n",
              "      <td>0.004226</td>\n",
              "      <td>-0.305505</td>\n",
              "    </tr>\n",
              "    <tr>\n",
              "      <th>28886</th>\n",
              "      <td>-0.101658</td>\n",
              "      <td>0.135170</td>\n",
              "      <td>-0.083638</td>\n",
              "      <td>-0.829381</td>\n",
              "      <td>0.423839</td>\n",
              "      <td>-0.396881</td>\n",
              "      <td>0.093434</td>\n",
              "      <td>-0.002868</td>\n",
              "      <td>0.056282</td>\n",
              "      <td>-0.150615</td>\n",
              "    </tr>\n",
              "    <tr>\n",
              "      <th>28887</th>\n",
              "      <td>-0.099983</td>\n",
              "      <td>-0.072210</td>\n",
              "      <td>-0.051312</td>\n",
              "      <td>0.280333</td>\n",
              "      <td>0.281797</td>\n",
              "      <td>-0.417145</td>\n",
              "      <td>0.091021</td>\n",
              "      <td>0.001041</td>\n",
              "      <td>-0.019834</td>\n",
              "      <td>-0.128148</td>\n",
              "    </tr>\n",
              "  </tbody>\n",
              "</table>\n",
              "<p>28888 rows × 10 columns</p>\n",
              "</div>"
            ],
            "text/plain": [
              "           PC-1      PC-2      PC-3  ...      PC-8      PC-9     PC-10\n",
              "0     -0.062846  4.037727 -0.437076  ...  0.026143  0.044715 -0.551154\n",
              "1     -0.086634 -0.595084  0.055857  ... -0.001257 -0.018729 -0.298514\n",
              "2     -0.078641  4.698855 -0.567305  ...  0.025648  0.096847 -0.395742\n",
              "3     -0.085996 -0.574470  0.055036  ... -0.000624 -0.025721 -0.298586\n",
              "4     -0.078329  4.698896 -0.566933  ...  0.025645  0.096847 -0.395695\n",
              "...         ...       ...       ...  ...       ...       ...       ...\n",
              "28883  1.840505  3.847122 -2.066401  ...  0.012263  0.032196 -0.426940\n",
              "28884 -0.084240 -0.720559  0.077434  ...  0.001617 -0.071783 -0.284394\n",
              "28885 -0.086861 -0.526086  0.045301  ... -0.002396  0.004226 -0.305505\n",
              "28886 -0.101658  0.135170 -0.083638  ... -0.002868  0.056282 -0.150615\n",
              "28887 -0.099983 -0.072210 -0.051312  ...  0.001041 -0.019834 -0.128148\n",
              "\n",
              "[28888 rows x 10 columns]"
            ]
          },
          "metadata": {
            "tags": []
          },
          "execution_count": 36
        }
      ]
    },
    {
      "cell_type": "code",
      "metadata": {
        "id": "X60OSTCZ9-fv"
      },
      "source": [
        "from sklearn.model_selection import train_test_split\n",
        "x_train, x_test, y_train,y_test = train_test_split(principal_x,y,test_size = 0.3)"
      ],
      "execution_count": 37,
      "outputs": []
    },
    {
      "cell_type": "code",
      "metadata": {
        "id": "8FEsBUq-LHeO",
        "outputId": "1916c202-7094-4fb6-c4cd-67941f90153c",
        "colab": {
          "base_uri": "https://localhost:8080/",
          "height": 88
        }
      },
      "source": [
        "print(\"Train Set Size : \",x_train.shape)\n",
        "print(\"Train Target Set Size : \",y_train.shape)\n",
        "print(\"Test  Set Size : \",x_test.shape)\n",
        "print(\"Test  Target Set Size : \",y_test.shape)"
      ],
      "execution_count": 38,
      "outputs": [
        {
          "output_type": "stream",
          "text": [
            "Train Set Size :  (20221, 10)\n",
            "Train Target Set Size :  (20221,)\n",
            "Test  Set Size :  (8667, 10)\n",
            "Test  Target Set Size :  (8667,)\n"
          ],
          "name": "stdout"
        }
      ]
    },
    {
      "cell_type": "code",
      "metadata": {
        "id": "-Gi96eAQI3az",
        "outputId": "1fa58697-2223-42d2-e186-4ee820ddb12e",
        "colab": {
          "base_uri": "https://localhost:8080/",
          "height": 293
        }
      },
      "source": [
        "sns.countplot(y, palette='Set1')\n",
        "plot.title(\"Count plot of the went_on_backorder variable\")\n",
        "plot.xticks(rotation = 90)\n",
        "plot.show()"
      ],
      "execution_count": 39,
      "outputs": [
        {
          "output_type": "display_data",
          "data": {
            "image/png": "[encoded data removed]",
            "text/plain": [
              "<Figure size 432x288 with 1 Axes>"
            ]
          },
          "metadata": {
            "tags": [],
            "needs_background": "light"
          }
        }
      ]
    },
    {
      "cell_type": "markdown",
      "metadata": {
        "id": "MdcfNfRUHEoV"
      },
      "source": [
        "We can see that our dataset is imbalanced so we need to balance our dataset first"
      ]
    },
    {
      "cell_type": "code",
      "metadata": {
        "id": "e4kg3pYrIP6Q"
      },
      "source": [
        "from imblearn.over_sampling import SMOTE"
      ],
      "execution_count": 40,
      "outputs": []
    },
    {
      "cell_type": "code",
      "metadata": {
        "id": "KfjdjjqjIR15"
      },
      "source": [
        "sm = SMOTE(random_state=12, ratio = 1.0)\n",
        "x_train, y_train = sm.fit_sample(x_train, y_train)"
      ],
      "execution_count": 41,
      "outputs": []
    },
    {
      "cell_type": "code",
      "metadata": {
        "id": "zF-cLas0IR5o",
        "outputId": "cc6edfb4-69ae-47f7-b7f6-5230ba6dc0a4",
        "colab": {
          "base_uri": "https://localhost:8080/",
          "height": 35
        }
      },
      "source": [
        "x_train.shape, y_train.shape"
      ],
      "execution_count": 42,
      "outputs": [
        {
          "output_type": "execute_result",
          "data": {
            "text/plain": [
              "((40024, 10), (40024,))"
            ]
          },
          "metadata": {
            "tags": []
          },
          "execution_count": 42
        }
      ]
    },
    {
      "cell_type": "code",
      "metadata": {
        "id": "lLkuYwCzIR9C",
        "outputId": "7be7f6ea-9c41-4347-fe08-509e89d5009f",
        "colab": {
          "base_uri": "https://localhost:8080/",
          "height": 283
        }
      },
      "source": [
        "sns.countplot(y_train)"
      ],
      "execution_count": 43,
      "outputs": [
        {
          "output_type": "execute_result",
          "data": {
            "text/plain": [
              "<matplotlib.axes._subplots.AxesSubplot at 0x7f3c1f1f4be0>"
            ]
          },
          "metadata": {
            "tags": []
          },
          "execution_count": 43
        },
        {
          "output_type": "display_data",
          "data": {
            "image/png": "[encoded data removed]",
            "text/plain": [
              "<Figure size 432x288 with 1 Axes>"
            ]
          },
          "metadata": {
            "tags": [],
            "needs_background": "light"
          }
        }
      ]
    },
    {
      "cell_type": "markdown",
      "metadata": {
        "id": "Ib5hiUNYGbFk"
      },
      "source": [
        "# **Model Building**"
      ]
    },
    {
      "cell_type": "code",
      "metadata": {
        "id": "hby1pdusHV2-"
      },
      "source": [
        "from sklearn.metrics import accuracy_score, confusion_matrix, roc_curve, roc_auc_score,classification_report\n",
        "from sklearn.linear_model import LogisticRegression\n",
        "from sklearn.ensemble import RandomForestClassifier\n",
        "from sklearn.linear_model import SGDClassifier\n",
        "from sklearn.tree import DecisionTreeClassifier\n",
        "from sklearn.neighbors import KNeighborsClassifier\n",
        "from sklearn.naive_bayes import GaussianNB\n",
        "from sklearn.model_selection import GridSearchCV\n"
      ],
      "execution_count": 44,
      "outputs": []
    },
    {
      "cell_type": "code",
      "metadata": {
        "id": "WlVauEoSpEzL",
        "outputId": "d2089646-70cd-4a8f-90e4-2f6c79c2c6c6",
        "colab": {
          "base_uri": "https://localhost:8080/",
          "height": 106
        }
      },
      "source": [
        "#logistic Regression\n",
        "logreg = LogisticRegression()\n",
        "logreg.fit(x_train, y_train)"
      ],
      "execution_count": 45,
      "outputs": [
        {
          "output_type": "execute_result",
          "data": {
            "text/plain": [
              "LogisticRegression(C=1.0, class_weight=None, dual=False, fit_intercept=True,\n",
              "                   intercept_scaling=1, l1_ratio=None, max_iter=100,\n",
              "                   multi_class='auto', n_jobs=None, penalty='l2',\n",
              "                   random_state=None, solver='lbfgs', tol=0.0001, verbose=0,\n",
              "                   warm_start=False)"
            ]
          },
          "metadata": {
            "tags": []
          },
          "execution_count": 45
        }
      ]
    },
    {
      "cell_type": "code",
      "metadata": {
        "id": "6zz9QldPpFEX",
        "outputId": "03e81ca7-d876-49c8-86bf-c0ae17dfff60",
        "colab": {
          "base_uri": "https://localhost:8080/",
          "height": 35
        }
      },
      "source": [
        "y_pred = logreg.predict(x_test)\n",
        "accuracy = round(accuracy_score(y_test,y_pred)*100,2)\n",
        "accuracy"
      ],
      "execution_count": 46,
      "outputs": [
        {
          "output_type": "execute_result",
          "data": {
            "text/plain": [
              "53.64"
            ]
          },
          "metadata": {
            "tags": []
          },
          "execution_count": 46
        }
      ]
    },
    {
      "cell_type": "code",
      "metadata": {
        "id": "9BjxU8VNvrQ6",
        "outputId": "a2ea9cb3-0fe7-4c1d-e244-e27beb3d32c0",
        "colab": {
          "base_uri": "https://localhost:8080/",
          "height": 35
        }
      },
      "source": [
        "acc_log_lr = round(logreg.score(x_train, y_train) * 100, 2)\n",
        "acc_log_lr"
      ],
      "execution_count": 63,
      "outputs": [
        {
          "output_type": "execute_result",
          "data": {
            "text/plain": [
              "62.46"
            ]
          },
          "metadata": {
            "tags": []
          },
          "execution_count": 63
        }
      ]
    },
    {
      "cell_type": "code",
      "metadata": {
        "id": "zWE7Yscix2DG",
        "outputId": "d34ccf34-7156-44c5-b301-4f5d8112efa0",
        "colab": {
          "base_uri": "https://localhost:8080/",
          "height": 177
        }
      },
      "source": [
        "print(classification_report(y_test,y_pred))"
      ],
      "execution_count": 48,
      "outputs": [
        {
          "output_type": "stream",
          "text": [
            "              precision    recall  f1-score   support\n",
            "\n",
            "           0       0.02      0.63      0.03        98\n",
            "           1       0.99      0.54      0.70      8569\n",
            "\n",
            "    accuracy                           0.54      8667\n",
            "   macro avg       0.50      0.58      0.36      8667\n",
            "weighted avg       0.98      0.54      0.69      8667\n",
            "\n"
          ],
          "name": "stdout"
        }
      ]
    },
    {
      "cell_type": "code",
      "metadata": {
        "id": "ljBIn1VrpD9z",
        "outputId": "71237fe1-3b73-45a8-c955-648b6abe3533",
        "colab": {
          "base_uri": "https://localhost:8080/",
          "height": 52
        }
      },
      "source": [
        "# Confusion Matrix\n",
        "conf_mat = confusion_matrix(y_test,y_pred)\n",
        "conf_mat"
      ],
      "execution_count": 49,
      "outputs": [
        {
          "output_type": "execute_result",
          "data": {
            "text/plain": [
              "array([[  62,   36],\n",
              "       [3982, 4587]])"
            ]
          },
          "metadata": {
            "tags": []
          },
          "execution_count": 49
        }
      ]
    },
    {
      "cell_type": "code",
      "metadata": {
        "id": "guDLKzz-x19G",
        "outputId": "2ea464eb-48a2-4e75-f272-d5483c1b4d83",
        "colab": {
          "base_uri": "https://localhost:8080/",
          "height": 327
        }
      },
      "source": [
        "#create a heat map\n",
        "sns.heatmap(pd.DataFrame(confusion_matrix(y_test,y_pred)), annot = True, cmap = 'BuGn_r',\n",
        "           fmt = 'g')\n",
        "plot.tight_layout()\n",
        "plot.title('Confusion matrix for Logistic Regression  Model', y = 1.1)\n",
        "plot.ylabel('Actual label')\n",
        "plot.xlabel('Predicted label')\n",
        "plot.show()"
      ],
      "execution_count": 51,
      "outputs": [
        {
          "output_type": "display_data",
          "data": {
            "image/png": "[encoded data removed]",
            "text/plain": [
              "<Figure size 432x288 with 2 Axes>"
            ]
          },
          "metadata": {
            "tags": [],
            "needs_background": "light"
          }
        }
      ]
    },
    {
      "cell_type": "markdown",
      "metadata": {
        "id": "bNm1RLi3Hr90"
      },
      "source": [
        "**Decision Tree**"
      ]
    },
    {
      "cell_type": "code",
      "metadata": {
        "id": "Yn-Q9YeWeCDw",
        "outputId": "d0096cec-1470-4603-f9e4-ee8c56889545",
        "colab": {
          "base_uri": "https://localhost:8080/",
          "height": 124
        }
      },
      "source": [
        "decision_tree = DecisionTreeClassifier() \n",
        "decision_tree.fit(x_train, y_train)  "
      ],
      "execution_count": 59,
      "outputs": [
        {
          "output_type": "execute_result",
          "data": {
            "text/plain": [
              "DecisionTreeClassifier(ccp_alpha=0.0, class_weight=None, criterion='gini',\n",
              "                       max_depth=None, max_features=None, max_leaf_nodes=None,\n",
              "                       min_impurity_decrease=0.0, min_impurity_split=None,\n",
              "                       min_samples_leaf=1, min_samples_split=2,\n",
              "                       min_weight_fraction_leaf=0.0, presort='deprecated',\n",
              "                       random_state=None, splitter='best')"
            ]
          },
          "metadata": {
            "tags": []
          },
          "execution_count": 59
        }
      ]
    },
    {
      "cell_type": "code",
      "metadata": {
        "id": "q8B2lUw7I5ho",
        "outputId": "4da6e089-b3f8-4caf-e9bb-e582007a3bdb",
        "colab": {
          "base_uri": "https://localhost:8080/",
          "height": 35
        }
      },
      "source": [
        "Y_pred = decision_tree.predict(x_test)  \n",
        "acc_decision_tree = round(decision_tree.score(x_train, y_train) * 100, 2)\n",
        "acc_decision_tree"
      ],
      "execution_count": 60,
      "outputs": [
        {
          "output_type": "execute_result",
          "data": {
            "text/plain": [
              "99.99"
            ]
          },
          "metadata": {
            "tags": []
          },
          "execution_count": 60
        }
      ]
    },
    {
      "cell_type": "code",
      "metadata": {
        "id": "1TxJSCnxI5li",
        "outputId": "22efc5de-2965-4f16-992c-f646de2317ad",
        "colab": {
          "base_uri": "https://localhost:8080/",
          "height": 35
        }
      },
      "source": [
        "acc_log_dt = round(decision_tree.score(x_train, y_train) * 100, 2)\n",
        "acc_log_dt"
      ],
      "execution_count": 64,
      "outputs": [
        {
          "output_type": "execute_result",
          "data": {
            "text/plain": [
              "99.99"
            ]
          },
          "metadata": {
            "tags": []
          },
          "execution_count": 64
        }
      ]
    },
    {
      "cell_type": "code",
      "metadata": {
        "id": "5iw0zSs6I5o2",
        "outputId": "a42a4a8d-c245-480c-e9a2-e74f662e30f6",
        "colab": {
          "base_uri": "https://localhost:8080/",
          "height": 177
        }
      },
      "source": [
        "print(classification_report(y_test,y_pred))"
      ],
      "execution_count": 62,
      "outputs": [
        {
          "output_type": "stream",
          "text": [
            "              precision    recall  f1-score   support\n",
            "\n",
            "           0       0.02      0.63      0.03        98\n",
            "           1       0.99      0.54      0.70      8569\n",
            "\n",
            "    accuracy                           0.54      8667\n",
            "   macro avg       0.50      0.58      0.36      8667\n",
            "weighted avg       0.98      0.54      0.69      8667\n",
            "\n"
          ],
          "name": "stdout"
        }
      ]
    },
    {
      "cell_type": "code",
      "metadata": {
        "id": "YcqPyRk2I5sm",
        "outputId": "4e3003af-2ddf-4877-e490-37b8e357ba1e",
        "colab": {
          "base_uri": "https://localhost:8080/",
          "height": 52
        }
      },
      "source": [
        "# Confusion Matrix\n",
        "conf_mat = confusion_matrix(y_test,y_pred)\n",
        "conf_mat"
      ],
      "execution_count": 57,
      "outputs": [
        {
          "output_type": "execute_result",
          "data": {
            "text/plain": [
              "array([[  62,   36],\n",
              "       [3982, 4587]])"
            ]
          },
          "metadata": {
            "tags": []
          },
          "execution_count": 57
        }
      ]
    },
    {
      "cell_type": "code",
      "metadata": {
        "id": "uFp8vlbjJPkZ",
        "outputId": "16890d3f-16f2-49ee-859a-7617273f7ea0",
        "colab": {
          "base_uri": "https://localhost:8080/",
          "height": 327
        }
      },
      "source": [
        "#create a heat map\n",
        "sns.heatmap(pd.DataFrame(confusion_matrix(y_test,y_pred)), annot = True, cmap = 'BuGn_r',\n",
        "           fmt = 'g')\n",
        "plot.tight_layout()\n",
        "plot.title('Confusion matrix for Logistic Regression  Model', y = 1.1)\n",
        "plot.ylabel('Actual label')\n",
        "plot.xlabel('Predicted label')\n",
        "plot.show()"
      ],
      "execution_count": 58,
      "outputs": [
        {
          "output_type": "display_data",
          "data": {
            "image/png": "[encoded data removed]",
            "text/plain": [
              "<Figure size 432x288 with 2 Axes>"
            ]
          },
          "metadata": {
            "tags": [],
            "needs_background": "light"
          }
        }
      ]
    },
    {
      "cell_type": "markdown",
      "metadata": {
        "id": "tpkVkHT7JfFk"
      },
      "source": [
        "**Random Forest**"
      ]
    },
    {
      "cell_type": "code",
      "metadata": {
        "id": "FjWJnN-9decw"
      },
      "source": [
        "random_forest = RandomForestClassifier(n_estimators=100)\n",
        "random_forest.fit(x_train, y_train)\n",
        "\n",
        "Y_prediction = random_forest.predict(x_test)\n",
        "\n",
        "random_forest.score(x_train, y_train)\n",
        "acc_random_forest = round(random_forest.score(x_train, y_train) * 100, 2)"
      ],
      "execution_count": 67,
      "outputs": []
    },
    {
      "cell_type": "code",
      "metadata": {
        "id": "UjvxUV34VwO-",
        "outputId": "01929081-cd7f-4b52-be92-ac2e43eb3ed6",
        "colab": {
          "base_uri": "https://localhost:8080/",
          "height": 212
        }
      },
      "source": [
        "print(classification_report(y_test,y_pred))\n",
        "# Confusion Matrix\n",
        "conf_mat = confusion_matrix(y_test,y_pred)\n",
        "print(conf_mat)"
      ],
      "execution_count": 68,
      "outputs": [
        {
          "output_type": "stream",
          "text": [
            "              precision    recall  f1-score   support\n",
            "\n",
            "           0       0.02      0.63      0.03        98\n",
            "           1       0.99      0.54      0.70      8569\n",
            "\n",
            "    accuracy                           0.54      8667\n",
            "   macro avg       0.50      0.58      0.36      8667\n",
            "weighted avg       0.98      0.54      0.69      8667\n",
            "\n",
            "[[  62   36]\n",
            " [3982 4587]]\n"
          ],
          "name": "stdout"
        }
      ]
    },
    {
      "cell_type": "code",
      "metadata": {
        "id": "q9zJZPYYduo8"
      },
      "source": [
        "gaussian = GaussianNB() \n",
        "gaussian.fit(x_train, y_train)  \n",
        "Y_pred = gaussian.predict(x_test)  \n",
        "acc_gaussian = round(gaussian.score(x_train, y_train) * 100, 2)"
      ],
      "execution_count": 65,
      "outputs": []
    },
    {
      "cell_type": "code",
      "metadata": {
        "id": "u_A4l6dueJoJ",
        "outputId": "f8763758-1cf7-40cb-8c51-adea36ccc919",
        "colab": {
          "base_uri": "https://localhost:8080/",
          "height": 200
        }
      },
      "source": [
        "results = pd.DataFrame({\n",
        "    'Model': [ 'Logistic Regression', \n",
        "              'Random Forest','Decision Tree', 'Naive Bayes',  \n",
        "              ],\n",
        "    'Score': [ acc_log_lr, \n",
        "              acc_random_forest, acc_log_dt,acc_gaussian]})\n",
        "result_df = results.sort_values(by='Score', ascending=False)\n",
        "result_df = result_df.set_index('Score')\n",
        "result_df.head(9)"
      ],
      "execution_count": 71,
      "outputs": [
        {
          "output_type": "execute_result",
          "data": {
            "text/html": [
              "<div>\n",
              "<style scoped>\n",
              "    .dataframe tbody tr th:only-of-type {\n",
              "        vertical-align: middle;\n",
              "    }\n",
              "\n",
              "    .dataframe tbody tr th {\n",
              "        vertical-align: top;\n",
              "    }\n",
              "\n",
              "    .dataframe thead th {\n",
              "        text-align: right;\n",
              "    }\n",
              "</style>\n",
              "<table border=\"1\" class=\"dataframe\">\n",
              "  <thead>\n",
              "    <tr style=\"text-align: right;\">\n",
              "      <th></th>\n",
              "      <th>Model</th>\n",
              "    </tr>\n",
              "    <tr>\n",
              "      <th>Score</th>\n",
              "      <th></th>\n",
              "    </tr>\n",
              "  </thead>\n",
              "  <tbody>\n",
              "    <tr>\n",
              "      <th>99.99</th>\n",
              "      <td>Random Forest</td>\n",
              "    </tr>\n",
              "    <tr>\n",
              "      <th>99.99</th>\n",
              "      <td>Decision Tree</td>\n",
              "    </tr>\n",
              "    <tr>\n",
              "      <th>62.46</th>\n",
              "      <td>Logistic Regression</td>\n",
              "    </tr>\n",
              "    <tr>\n",
              "      <th>53.77</th>\n",
              "      <td>Naive Bayes</td>\n",
              "    </tr>\n",
              "  </tbody>\n",
              "</table>\n",
              "</div>"
            ],
            "text/plain": [
              "                     Model\n",
              "Score                     \n",
              "99.99        Random Forest\n",
              "99.99        Decision Tree\n",
              "62.46  Logistic Regression\n",
              "53.77          Naive Bayes"
            ]
          },
          "metadata": {
            "tags": []
          },
          "execution_count": 71
        }
      ]
    },
    {
      "cell_type": "code",
      "metadata": {
        "id": "A0pDsHdSob95",
        "outputId": "f3f2f97f-0ba5-4f32-c979-1503e05e8120",
        "colab": {
          "base_uri": "https://localhost:8080/",
          "height": 35
        }
      },
      "source": [
        "random_forest.score(x_test,y_test)"
      ],
      "execution_count": 72,
      "outputs": [
        {
          "output_type": "execute_result",
          "data": {
            "text/plain": [
              "0.9589246567439714"
            ]
          },
          "metadata": {
            "tags": []
          },
          "execution_count": 72
        }
      ]
    },
    {
      "cell_type": "code",
      "metadata": {
        "id": "GlbNsf11LOOQ"
      },
      "source": [
        "import pickle"
      ],
      "execution_count": 73,
      "outputs": []
    },
    {
      "cell_type": "code",
      "metadata": {
        "id": "uqNM3u-qe8n_"
      },
      "source": [
        "# saving the model to the local file system\n",
        "filename = 'backorder_model.pickle'\n",
        "pickle.dump(random_forest, open(filename, 'wb'))"
      ],
      "execution_count": 74,
      "outputs": []
    },
    {
      "cell_type": "code",
      "metadata": {
        "id": "79RLw7DUIKTh",
        "outputId": "0aa1d278-ec5c-4f43-aa8c-8af6ca8fef5b",
        "colab": {
          "base_uri": "https://localhost:8080/",
          "height": 35
        }
      },
      "source": [
        "# prediction using the saved model\n",
        "loaded_model = pickle.load(open(filename, 'rb'))\n",
        "a=loaded_model.predict(pca.transform([[5,6,8,3,2,9,12,34,8,4,75,2,35,3,5,7,3,12,11,3,2]]))\n",
        "a"
      ],
      "execution_count": 75,
      "outputs": [
        {
          "output_type": "execute_result",
          "data": {
            "text/plain": [
              "array([1])"
            ]
          },
          "metadata": {
            "tags": []
          },
          "execution_count": 75
        }
      ]
    },
    {
      "cell_type": "code",
      "metadata": {
        "id": "8gKEyXnlLTDn"
      },
      "source": [
        ""
      ],
      "execution_count": null,
      "outputs": []
    }
  ]
}